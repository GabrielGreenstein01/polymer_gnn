{
 "cells": [
  {
   "cell_type": "markdown",
   "id": "9dff6f90-de6c-42a3-8c74-f935cdb9aee7",
   "metadata": {},
   "source": [
    "## Create dictionary of monomer properties "
   ]
  },
  {
   "cell_type": "code",
   "execution_count": 1,
   "id": "cdc3d69e-198c-418c-96dc-dbe4420ea319",
   "metadata": {},
   "outputs": [],
   "source": [
    "import pandas as pd\n",
    "import numpy as np\n",
    "import re\n",
    "import json\n",
    "import os"
   ]
  },
  {
   "cell_type": "code",
   "execution_count": 2,
   "id": "64ea6c59-c5f9-49ad-82cd-21cff4f76c6d",
   "metadata": {},
   "outputs": [],
   "source": [
    "monomer_data = pd.read_csv('monomers.csv')\n",
    "monomer_data['mon_class'] = monomer_data['mon_class'].map(lambda x: str(x).lower())\n",
    "monomer_data = monomer_data[monomer_data['mon_class'].isin([\"cationic\", \"hydrophobic\", \"hydrophilic\"])]"
   ]
  },
  {
   "cell_type": "code",
   "execution_count": 3,
   "id": "f30ccb3e-1b98-485c-b6ac-71085fdaec5c",
   "metadata": {
    "scrolled": true
   },
   "outputs": [
    {
     "data": {
      "text/plain": [
       "{'Tma': {'SMILES': 'C[N+](C)(C)CCCNC(=O)C=C',\n",
       "  'min': 10.0,\n",
       "  'max': 90.0,\n",
       "  'increment': 5.0,\n",
       "  'molar_mass': 206.71},\n",
       " 'Aeg': {'SMILES': 'NC(=[NH2+])NCCNC(=O)C=C',\n",
       "  'min': 0.0,\n",
       "  'max': 20.0,\n",
       "  'increment': 5.0,\n",
       "  'molar_mass': 192.65},\n",
       " 'Mo': {'SMILES': 'C=CC(=O)N1CCOCC1',\n",
       "  'min': 0.0,\n",
       "  'max': 90.0,\n",
       "  'increment': 5.0,\n",
       "  'molar_mass': 141.17},\n",
       " 'Mep': {'SMILES': 'COCCCNC(=O)C=C',\n",
       "  'min': 0.0,\n",
       "  'max': 90.0,\n",
       "  'increment': 5.0,\n",
       "  'molar_mass': 143.18},\n",
       " 'Ni': {'SMILES': 'CC(C)NC(=O)C=C',\n",
       "  'min': 0.0,\n",
       "  'max': 40.0,\n",
       "  'increment': 5.0,\n",
       "  'molar_mass': 113.16},\n",
       " 'Phe': {'SMILES': 'C=CC(=O)Nc1ccccc1',\n",
       "  'min': 0.0,\n",
       "  'max': 40.0,\n",
       "  'increment': 5.0,\n",
       "  'molar_mass': 147.17},\n",
       " 'Do': {'SMILES': 'CCCCCCCCCCCCNC(=O)C=C',\n",
       "  'min': 0.0,\n",
       "  'max': 30.0,\n",
       "  'increment': 5.0,\n",
       "  'molar_mass': 239.4},\n",
       " 'Bam': {'SMILES': 'CCCCNC(=O)C=C',\n",
       "  'min': 0.0,\n",
       "  'max': 40.0,\n",
       "  'increment': 5.0,\n",
       "  'molar_mass': 127.18},\n",
       " 'Oct': {'SMILES': 'CCCCCCCCNC(=O)C=C',\n",
       "  'min': 0.0,\n",
       "  'max': 30.0,\n",
       "  'increment': 5.0,\n",
       "  'molar_mass': 183.29},\n",
       " 'Olam': {'SMILES': 'CCCCCCCC/C=C\\\\CCCCCCCCNC(=O)C(=C)',\n",
       "  'min': 0.0,\n",
       "  'max': 30.0,\n",
       "  'increment': 5.0,\n",
       "  'molar_mass': 321.3},\n",
       " 'Bmam': {'SMILES': 'CCCCOCNC(=O)C=C',\n",
       "  'min': 0.0,\n",
       "  'max': 50.0,\n",
       "  'increment': 5.0,\n",
       "  'molar_mass': 157.21},\n",
       " 'Tmb': {'SMILES': 'CC(C)(C)CC(C)(C)NC(=O)C=C',\n",
       "  'min': 0.0,\n",
       "  'max': 30.0,\n",
       "  'increment': 5.0,\n",
       "  'molar_mass': 183.29}}"
      ]
     },
     "execution_count": 3,
     "metadata": {},
     "output_type": "execute_result"
    }
   ],
   "source": [
    "cols = ['mon_abb', 'SMILES', 'min_mon_wt', 'max_mon_wt', 'increments', 'molar_mass']\n",
    "mon_df = monomer_data[cols].rename(columns={'min_mon_wt': 'min', 'max_mon_wt': 'max', 'increments': 'increment'})\n",
    "monomer_properties = mon_df.set_index('mon_abb').T.to_dict('dict')\n",
    "\n",
    "with open(\"monomer_properties.json\", \"w\") as outfile: \n",
    "    json.dump(monomer_properties, outfile)\n",
    "    \n",
    "monomer_properties"
   ]
  },
  {
   "cell_type": "code",
   "execution_count": null,
   "id": "336c4110-598a-4ce1-9c76-b1bb8e8676c5",
   "metadata": {},
   "outputs": [],
   "source": []
  }
 ],
 "metadata": {
  "kernelspec": {
   "display_name": "Python 3 (ipykernel)",
   "language": "python",
   "name": "python3"
  },
  "language_info": {
   "codemirror_mode": {
    "name": "ipython",
    "version": 3
   },
   "file_extension": ".py",
   "mimetype": "text/x-python",
   "name": "python",
   "nbconvert_exporter": "python",
   "pygments_lexer": "ipython3",
   "version": "3.9.18"
  }
 },
 "nbformat": 4,
 "nbformat_minor": 5
}
