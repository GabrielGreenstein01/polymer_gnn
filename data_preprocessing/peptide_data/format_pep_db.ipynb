{
 "cells": [
  {
   "cell_type": "code",
   "execution_count": 49,
   "id": "6c580b4d-4d58-42d2-9288-ef6999ef3efd",
   "metadata": {},
   "outputs": [],
   "source": [
    "import pandas as pd\n",
    "import numpy as np\n",
    "from scipy.stats import gmean"
   ]
  },
  {
   "cell_type": "code",
   "execution_count": 50,
   "id": "f647950c-1226-4544-9ccf-011fab1c337f",
   "metadata": {},
   "outputs": [],
   "source": [
    "grampa = pd.read_csv(\"origin_data/grampa_v2.csv\").drop(\"Unnamed: 0\", axis=1)\n",
    "uniprot = pd.read_csv(\"origin_data/origin_negative.csv\")"
   ]
  },
  {
   "cell_type": "code",
   "execution_count": 51,
   "id": "003e96b3-8233-4bde-b289-0eae0daf18cc",
   "metadata": {},
   "outputs": [],
   "source": [
    "# grampa = grampa[grampa[\"bacterium\"] == \"E. coli\"]\n",
    "# grampa = grampa.assign(MIC = lambda x: 10**x['value'])\n",
    "# grampa[\"sequence\"] = grampa.apply(lambda row: row['sequence'] + \"_amd\" if row[\"has_cterminal_amidation\"] else row[\"sequence\"], axis=1)\n",
    "# grampa = grampa[~grampa[\"has_unusual_modification\"]]\n",
    "\n",
    "# grampa = grampa.groupby(\"sequence\").agg({\"MIC\": gmean}).reset_index()\n",
    "\n",
    "# grampa = grampa.rename(columns={'MIC': 'MIC_ecoli'})\n",
    "# grampa[\"MIC_ecoli\"].describe()\n"
   ]
  },
  {
   "cell_type": "markdown",
   "id": "18a458d2-ae1d-497a-96ac-f6897deed6af",
   "metadata": {},
   "source": [
    "### Uniprot:"
   ]
  },
  {
   "cell_type": "code",
   "execution_count": 52,
   "id": "4a01a036-24e5-41a7-93d0-701a913c6cae",
   "metadata": {},
   "outputs": [],
   "source": [
    "uniprot = uniprot.rename(columns={\"Sequence\": \"sequence\"})\n",
    "uniprot = uniprot[~uniprot[\"sequence\"].str.contains(\"B|X|Z|O|U\")].reset_index(drop=True)\n",
    "uniprot[\"Keywords\"] = uniprot[\"Keywords\"].fillna(\"\")\n",
    "\n",
    "uniprot[\"sequence\"] = uniprot.apply(lambda row: row['sequence'] + \"_amd\" if \"amidation\" in row[\"Keywords\"].lower() else row[\"sequence\"], axis=1)\n",
    "\n",
    "# uniprot[uniprot[\"Sequence\"].duplicated(keep=False)].groupby(\"Sequence\").size().reset_index(name='counts')\n",
    "uniprot = uniprot[~uniprot[\"sequence\"].duplicated()].reset_index(drop=True)\n",
    "\n",
    "uniprot[\"MIC_ecoli\"] = [9999] * len(uniprot)\n",
    "\n",
    "uniprot.to_csv(\"formatted_data/uniprot.csv\", columns = [\"sequence\", \"MIC_ecoli\"], index=False)"
   ]
  },
  {
   "cell_type": "markdown",
   "id": "3d72eec3-5a44-4c6a-92b0-bc7bd677998d",
   "metadata": {},
   "source": [
    "### GRAMPA:"
   ]
  },
  {
   "cell_type": "code",
   "execution_count": 53,
   "id": "4ae90e88-f059-4aad-9a57-cbd6ac72edfd",
   "metadata": {},
   "outputs": [],
   "source": [
    "grampa = grampa[grampa[\"bacterium\"] == \"E. coli\"]\n",
    "grampa = grampa.assign(MIC = lambda x: 10**x['value'])\n",
    "grampa[\"sequence\"] = grampa.apply(lambda row: row['sequence'] + \"_amd\" if row[\"has_cterminal_amidation\"] else row[\"sequence\"], axis=1)\n",
    "grampa = grampa[~grampa[\"has_unusual_modification\"]]\n",
    "\n",
    "grampa = grampa.groupby(\"sequence\").agg({\"MIC\": gmean}).reset_index()\n",
    "\n",
    "grampa = grampa.rename(columns={'MIC': 'MIC_ecoli'})\n",
    "\n",
    "grampa.to_csv(\"formatted_data/grampa.csv\", columns = [\"sequence\", \"MIC_ecoli\"], index=False)"
   ]
  },
  {
   "cell_type": "markdown",
   "id": "0d314554-8f5d-4ed5-bab9-6b084375704d",
   "metadata": {},
   "source": [
    "### Concatenate:"
   ]
  },
  {
   "cell_type": "code",
   "execution_count": 70,
   "id": "e33b6d49-112d-4aaa-a953-9dc6c476bed8",
   "metadata": {},
   "outputs": [
    {
     "data": {
      "text/html": [
       "<div>\n",
       "<style scoped>\n",
       "    .dataframe tbody tr th:only-of-type {\n",
       "        vertical-align: middle;\n",
       "    }\n",
       "\n",
       "    .dataframe tbody tr th {\n",
       "        vertical-align: top;\n",
       "    }\n",
       "\n",
       "    .dataframe thead th {\n",
       "        text-align: right;\n",
       "    }\n",
       "</style>\n",
       "<table border=\"1\" class=\"dataframe\">\n",
       "  <thead>\n",
       "    <tr style=\"text-align: right;\">\n",
       "      <th></th>\n",
       "      <th>pep_ID</th>\n",
       "      <th>sequence</th>\n",
       "      <th>MIC_ecoli</th>\n",
       "    </tr>\n",
       "  </thead>\n",
       "  <tbody>\n",
       "    <tr>\n",
       "      <th>0</th>\n",
       "      <td>1</td>\n",
       "      <td>AAAAAAAAAAGIGKFLHSAKKFGKAFVGEIMNS</td>\n",
       "      <td>125.878150</td>\n",
       "    </tr>\n",
       "    <tr>\n",
       "      <th>1</th>\n",
       "      <td>2</td>\n",
       "      <td>AAAAAAAIKMLMDLVNERIMALNKKAKK_amd</td>\n",
       "      <td>10.000000</td>\n",
       "    </tr>\n",
       "    <tr>\n",
       "      <th>2</th>\n",
       "      <td>3</td>\n",
       "      <td>AAAAGSVWGAVNYTSDCNGECKRRGYKGGYCGSFANVNCWCET</td>\n",
       "      <td>100.000000</td>\n",
       "    </tr>\n",
       "    <tr>\n",
       "      <th>3</th>\n",
       "      <td>4</td>\n",
       "      <td>AAAKAALNAVLVGANA</td>\n",
       "      <td>80.000000</td>\n",
       "    </tr>\n",
       "    <tr>\n",
       "      <th>4</th>\n",
       "      <td>5</td>\n",
       "      <td>AACSDRAHGHICESFKSFCKDSGRNGVKLRANCKKTCGLC</td>\n",
       "      <td>1.780176</td>\n",
       "    </tr>\n",
       "    <tr>\n",
       "      <th>...</th>\n",
       "      <td>...</td>\n",
       "      <td>...</td>\n",
       "      <td>...</td>\n",
       "    </tr>\n",
       "    <tr>\n",
       "      <th>11066</th>\n",
       "      <td>10999</td>\n",
       "      <td>IFFEV</td>\n",
       "      <td>9999.000000</td>\n",
       "    </tr>\n",
       "    <tr>\n",
       "      <th>11067</th>\n",
       "      <td>11000</td>\n",
       "      <td>FAIGAIIKKFGKKLVEYAVKHKDLYAPYIKKHLCEKL</td>\n",
       "      <td>9999.000000</td>\n",
       "    </tr>\n",
       "    <tr>\n",
       "      <th>11068</th>\n",
       "      <td>11001</td>\n",
       "      <td>SDQGDVAEPKMHKTAPPFDFEAIPEEYLDDES</td>\n",
       "      <td>9999.000000</td>\n",
       "    </tr>\n",
       "    <tr>\n",
       "      <th>11069</th>\n",
       "      <td>11002</td>\n",
       "      <td>MMYLMPLLIVIVGCLALHCSDDDMPDGHA</td>\n",
       "      <td>9999.000000</td>\n",
       "    </tr>\n",
       "    <tr>\n",
       "      <th>11070</th>\n",
       "      <td>11003</td>\n",
       "      <td>MRTGTRCDLGELSHPRKTLPPRGMGILCNYTGN</td>\n",
       "      <td>9999.000000</td>\n",
       "    </tr>\n",
       "  </tbody>\n",
       "</table>\n",
       "<p>11003 rows × 3 columns</p>\n",
       "</div>"
      ],
      "text/plain": [
       "       pep_ID                                     sequence    MIC_ecoli\n",
       "0           1            AAAAAAAAAAGIGKFLHSAKKFGKAFVGEIMNS   125.878150\n",
       "1           2             AAAAAAAIKMLMDLVNERIMALNKKAKK_amd    10.000000\n",
       "2           3  AAAAGSVWGAVNYTSDCNGECKRRGYKGGYCGSFANVNCWCET   100.000000\n",
       "3           4                             AAAKAALNAVLVGANA    80.000000\n",
       "4           5     AACSDRAHGHICESFKSFCKDSGRNGVKLRANCKKTCGLC     1.780176\n",
       "...       ...                                          ...          ...\n",
       "11066   10999                                        IFFEV  9999.000000\n",
       "11067   11000        FAIGAIIKKFGKKLVEYAVKHKDLYAPYIKKHLCEKL  9999.000000\n",
       "11068   11001             SDQGDVAEPKMHKTAPPFDFEAIPEEYLDDES  9999.000000\n",
       "11069   11002                MMYLMPLLIVIVGCLALHCSDDDMPDGHA  9999.000000\n",
       "11070   11003            MRTGTRCDLGELSHPRKTLPPRGMGILCNYTGN  9999.000000\n",
       "\n",
       "[11003 rows x 3 columns]"
      ]
     },
     "execution_count": 70,
     "metadata": {},
     "output_type": "execute_result"
    }
   ],
   "source": [
    "df = pd.concat([grampa, uniprot], ignore_index=True).dropna(axis=1)\n",
    "df = df[df[\"sequence\"].duplicated(keep=False) == False]\n",
    "\n",
    "df.insert(0, 'pep_ID', range(1, len(df) + 1))\n",
    "\n",
    "df.to_csv('peptide_db.csv', index=False)\n",
    "df"
   ]
  },
  {
   "cell_type": "code",
   "execution_count": null,
   "id": "0c0b4049-c8cf-4edb-926b-58efdee283af",
   "metadata": {},
   "outputs": [],
   "source": []
  }
 ],
 "metadata": {
  "kernelspec": {
   "display_name": "Python 3 (ipykernel)",
   "language": "python",
   "name": "python3"
  },
  "language_info": {
   "codemirror_mode": {
    "name": "ipython",
    "version": 3
   },
   "file_extension": ".py",
   "mimetype": "text/x-python",
   "name": "python",
   "nbconvert_exporter": "python",
   "pygments_lexer": "ipython3",
   "version": "3.9.18"
  }
 },
 "nbformat": 4,
 "nbformat_minor": 5
}
