{
 "cells": [
  {
   "cell_type": "code",
   "execution_count": 220,
   "id": "7f7acab8-fcfa-4fb8-b541-df39a097f589",
   "metadata": {},
   "outputs": [
    {
     "name": "stdout",
     "output_type": "stream",
     "text": [
      "# Cores:30\n",
      "# GPUs: 1\n",
      "Available GPUs: [0]\n",
      "Visible GPUs Indices: 0\n"
     ]
    }
   ],
   "source": [
    "import os\n",
    "import torch\n",
    "\n",
    "import joblib\n",
    "\n",
    "num_cores = os.cpu_count()\n",
    "num_GPUs = torch.cuda.device_count()\n",
    "\n",
    "print('# Cores:' + str(num_cores))\n",
    "print('# GPUs: ' + str(num_GPUs))\n",
    "\n",
    "# Get the available GPUs directly as a list\n",
    "print(f\"Available GPUs: {list(range(torch.cuda.device_count()))}\")\n",
    "\n",
    "print('Visible GPUs Indices: ' + str(os.environ.get('CUDA_VISIBLE_DEVICES', 'All GPUs are visible')))"
   ]
  },
  {
   "cell_type": "code",
   "execution_count": 221,
   "id": "354ee020-baf4-47bf-861d-fbff30368ef8",
   "metadata": {},
   "outputs": [],
   "source": [
    "os.environ['CUDA_VISIBLE_DEVICES'] = \"0\""
   ]
  },
  {
   "cell_type": "code",
   "execution_count": 222,
   "id": "7b5a1f99-6e41-467c-a73b-9bc63b6ddffe",
   "metadata": {},
   "outputs": [
    {
     "name": "stdout",
     "output_type": "stream",
     "text": [
      "The autoreload extension is already loaded. To reload it, use:\n",
      "  %reload_ext autoreload\n"
     ]
    }
   ],
   "source": [
    "%load_ext autoreload\n",
    "%autoreload 2\n",
    "\n",
    "from utils.create_dataset_class import DataSet\n",
    "from utils.multiclass_NN import multiclass_NN\n",
    "from utils.split_dataset import split\n",
    "from utils.scale_graph_features import scale"
   ]
  },
  {
   "cell_type": "code",
   "execution_count": 223,
   "id": "aab5ba7e-d29b-4b63-9ee5-ad298ade9d9d",
   "metadata": {},
   "outputs": [],
   "source": [
    "SEED = 103\n",
    "db_file = 'data_preprocessing/db.csv'\n",
    "SPLIT_RATIO = '0.4,0.3,0.3' # Train, Val, Test\n",
    "\n",
    "SMILES = 'data_preprocessing/SMILES.txt'\n",
    "DESCRIPTORS = 'feature_engineering/unique_descriptors.json'\n",
    "\n",
    "LABELNAME = '3_classes'\n",
    "TASK = 'classification'\n",
    "MODEL = 'MPNN'\n",
    "\n",
    "NUM_EPOCHS = 4\n",
    "NUM_WORKERS = num_cores\n",
    "\n",
    "MODEL_PATH = 'past_trials/' + MODEL + '/' + str(NUM_EPOCHS) + '_epochs'\n",
    "\n",
    "SAVE_MODEL = True\n",
    "SAVE_OPT = True\n",
    "SAVE_CONFIG = True\n",
    "\n",
    "CUSTOM_PARAMS = {}"
   ]
  },
  {
   "cell_type": "code",
   "execution_count": 224,
   "id": "abf7d1bc-4283-4a8b-9fc0-9c107098bcad",
   "metadata": {
    "scrolled": true
   },
   "outputs": [],
   "source": [
    "split_db = split(db_file, SEED, SPLIT_RATIO)"
   ]
  },
  {
   "cell_type": "code",
   "execution_count": 225,
   "id": "d408f978-b809-4a37-b81a-d250d37a2986",
   "metadata": {
    "scrolled": true
   },
   "outputs": [],
   "source": [
    "scalers, scaled_feats = scale(split_db, SMILES, DESCRIPTORS)"
   ]
  },
  {
   "cell_type": "code",
   "execution_count": 226,
   "id": "86c00368-eca5-426e-b18d-ee5c0ce61366",
   "metadata": {},
   "outputs": [],
   "source": [
    "# Remove bond scaling\n",
    "import numpy as np\n",
    "\n",
    "for bond_type in scaled_feats['bond'].keys():\n",
    "    num_features = len(scaled_feats['bond'][bond_type])\n",
    "    scaled_feats['bond'][bond_type] = np.zeros(num_features)"
   ]
  },
  {
   "cell_type": "code",
   "execution_count": 227,
   "id": "68365074-cc1c-4a10-b39e-095b8f115982",
   "metadata": {},
   "outputs": [],
   "source": [
    "dataset = DataSet(db_file, scaled_feats, split_db, LABELNAME, TASK, MODEL)"
   ]
  },
  {
   "cell_type": "code",
   "execution_count": 228,
   "id": "e2167f84-5750-403b-9466-91eeaa8e36eb",
   "metadata": {
    "scrolled": true
   },
   "outputs": [
    {
     "name": "stdout",
     "output_type": "stream",
     "text": [
      "{'wt1': 1.1, 'wt2': 1.2, 'wt3': 1.3}\n",
      "tensor([1.1000, 1.2000, 1.3000])\n",
      "Directory past_trials/MPNN/4_epochs already exists.\n"
     ]
    },
    {
     "name": "stderr",
     "output_type": "stream",
     "text": [
      "/home/ubuntu/antimicrobial_GNN/utils/stopper.py:118: FutureWarning: You are using `torch.load` with `weights_only=False` (the current default value), which uses the default pickle module implicitly. It is possible to construct malicious pickle data which will execute arbitrary code during unpickling (See https://github.com/pytorch/pytorch/blob/main/SECURITY.md#untrusted-models for more details). In a future release, the default value for `weights_only` will be flipped to `True`. This limits the functions that could be executed during unpickling. Arbitrary objects will no longer be allowed to be loaded via this mode unless they are explicitly allowlisted by the user via `torch.serialization.add_safe_globals`. We recommend you start setting `weights_only=True` for any use case where you don't have full control of the loaded file. Please open an issue on GitHub for any issues related to this experimental feature.\n",
      "  model.load_state_dict(torch.load(self._filename)['model_state_dict'])\n"
     ]
    },
    {
     "data": {
      "text/plain": [
       "-0.8201800384548156"
      ]
     },
     "execution_count": 228,
     "metadata": {},
     "output_type": "execute_result"
    }
   ],
   "source": [
    "test = multiclass_NN(dataset, MODEL, NUM_EPOCHS, NUM_WORKERS, DESCRIPTORS, CUSTOM_PARAMS, MODEL_PATH, SAVE_MODEL, SAVE_OPT, SAVE_CONFIG)\n",
    "test.main()"
   ]
  },
  {
   "cell_type": "code",
   "execution_count": 229,
   "id": "b2b836b7-f60c-48db-a05c-ac3b684e45cc",
   "metadata": {},
   "outputs": [
    {
     "data": {
      "text/plain": [
       "['past_trials/MPNN/4_epochs/scalers.pkl']"
      ]
     },
     "execution_count": 229,
     "metadata": {},
     "output_type": "execute_result"
    }
   ],
   "source": [
    "joblib.dump(scalers, MODEL_PATH + '/scalers.pkl')"
   ]
  },
  {
   "cell_type": "code",
   "execution_count": null,
   "id": "2fc1adb7-cdeb-42d3-af81-eacb1023474f",
   "metadata": {},
   "outputs": [],
   "source": []
  }
 ],
 "metadata": {
  "kernelspec": {
   "display_name": "GLAMOUR",
   "language": "python",
   "name": "glamour"
  },
  "language_info": {
   "codemirror_mode": {
    "name": "ipython",
    "version": 3
   },
   "file_extension": ".py",
   "mimetype": "text/x-python",
   "name": "python",
   "nbconvert_exporter": "python",
   "pygments_lexer": "ipython3",
   "version": "3.9.21"
  }
 },
 "nbformat": 4,
 "nbformat_minor": 5
}
