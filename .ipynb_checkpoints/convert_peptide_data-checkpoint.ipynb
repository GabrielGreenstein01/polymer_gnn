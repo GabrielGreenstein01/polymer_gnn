{
 "cells": [
  {
   "cell_type": "code",
   "execution_count": 30,
   "id": "7cd672e5-59c6-4c21-beef-267fc267c750",
   "metadata": {},
   "outputs": [],
   "source": [
    "import pandas as pd\n",
    "import numpy as np\n",
    "import re\n",
    "from scipy.stats import gmean"
   ]
  },
  {
   "cell_type": "markdown",
   "id": "a1c9435c-b410-482c-b56b-fffc57d813ef",
   "metadata": {},
   "source": [
    "## Process Original Dataset"
   ]
  },
  {
   "cell_type": "code",
   "execution_count": 31,
   "id": "2f38ffa8-4518-40b9-932d-1d0e958f083e",
   "metadata": {},
   "outputs": [],
   "source": [
    "grampa = pd.read_csv(\"labeled_data/raw_data/origin_data/grampa_v2.csv\").drop(\"Unnamed: 0\", axis=1)\n",
    "uniprot = pd.read_csv(\"labeled_data/raw_data/origin_data/origin_negative.csv\")"
   ]
  },
  {
   "cell_type": "code",
   "execution_count": 32,
   "id": "7e31e68d-8bae-4408-88d9-caab5512af0e",
   "metadata": {},
   "outputs": [],
   "source": [
    "uniprot = uniprot.rename(columns={\"Sequence\": \"sequence\"})\n",
    "uniprot = uniprot[~uniprot[\"sequence\"].str.contains(\"B|X|Z|O|U\")].reset_index(drop=True)\n",
    "uniprot[\"Keywords\"] = uniprot[\"Keywords\"].fillna(\"\")\n",
    "\n",
    "uniprot[\"sequence\"] = uniprot.apply(lambda row: row['sequence'] + \"_amd\" if \"amidation\" in row[\"Keywords\"].lower() else row[\"sequence\"], axis=1)\n",
    "\n",
    "# uniprot[uniprot[\"Sequence\"].duplicated(keep=False)].groupby(\"Sequence\").size().reset_index(name='counts')\n",
    "uniprot = uniprot[~uniprot[\"sequence\"].duplicated()].reset_index(drop=True)\n",
    "\n",
    "uniprot[\"ID\"] = list(\"UID\" + str(idx) for idx in list(uniprot.index + 1))\n",
    "uniprot[\"immunogenic\"] = [\"No\"] * len(uniprot)\n",
    "uniprot[\"MIC\"] = [-9999] * len(uniprot)\n",
    "\n",
    "uniprot.to_csv(\"labeled_data/raw_data/uniprot.csv\", columns = [\"ID\", \"sequence\", \"immunogenic\", \"MIC\"], index=False)"
   ]
  },
  {
   "cell_type": "code",
   "execution_count": 33,
   "id": "b4dea24b-e9e9-40eb-9637-2fe2de8a84c1",
   "metadata": {},
   "outputs": [],
   "source": [
    "grampa = grampa[grampa[\"bacterium\"] == \"E. coli\"]\n",
    "grampa = grampa.assign(MIC = lambda x: 10**x['value'])\n",
    "grampa[\"sequence\"] = grampa.apply(lambda row: row['sequence'] + \"_amd\" if row[\"has_cterminal_amidation\"] else row[\"sequence\"], axis=1)\n",
    "grampa = grampa[~grampa[\"has_unusual_modification\"]]\n",
    "\n",
    "grampa = grampa.groupby(\"sequence\").agg({\"MIC\": gmean}).reset_index()\n",
    "grampa[\"ID\"] = list(\"GID\" + str(idx) for idx in list(grampa.index + 1))\n",
    "grampa[\"immunogenic\"] = ['Yes'] * len(grampa)\n",
    "\n",
    "grampa.to_csv(\"labeled_data/raw_data/grampa.csv\", columns = [\"ID\", \"sequence\", \"immunogenic\", \"MIC\"], index=False)"
   ]
  },
  {
   "cell_type": "markdown",
   "id": "d3bc41e7-3e3a-40fb-a0f1-bc7d1ce8f4ce",
   "metadata": {},
   "source": [
    "## Create *immuno_peptides.txt*"
   ]
  },
  {
   "cell_type": "code",
   "execution_count": 34,
   "id": "6ec2c0af-4195-4a31-a653-55059d9be221",
   "metadata": {},
   "outputs": [],
   "source": [
    "# Export to immuno_peptides.txt\n",
    "col_to_exp = [\"ID\",\"sequence\",\"immunogenic\"]\n",
    "immuno = pd.concat([grampa[col_to_exp], uniprot[col_to_exp]], sort=False)\n",
    "immuno = immuno[immuno[\"sequence\"].duplicated(keep=False) == False]\n",
    "\n",
    "immuno.to_csv(\"labeled_data/tables/immuno_peptides.txt\", index=None, sep=\",\", mode=\"w\")"
   ]
  },
  {
   "cell_type": "markdown",
   "id": "803bf139-737e-49d8-a9a3-7c634604ae7a",
   "metadata": {},
   "source": [
    "## Create *[ID]_graph.txt* Files"
   ]
  },
  {
   "cell_type": "code",
   "execution_count": 35,
   "id": "0a29d8a9-da50-47c5-b8ca-e257c6ebd240",
   "metadata": {},
   "outputs": [],
   "source": [
    "# Get list of IDs & Sequences\n",
    "ids = list(immuno[\"ID\"])\n",
    "sequences = list(immuno[\"sequence\"])\n",
    "num_sequences = len(sequences)"
   ]
  },
  {
   "cell_type": "code",
   "execution_count": 36,
   "id": "c981d24f-803d-448a-98e9-5fce1ef26483",
   "metadata": {},
   "outputs": [],
   "source": [
    "for i in range(num_sequences):\n",
    "\n",
    "    filename = \"labeled_data/dataset/classification/\" + str(ids[i]) + \"_graph.txt\"\n",
    "\n",
    "    data = []  \n",
    "    data.append(\"MONOMERS\")\n",
    "\n",
    "    # Split sequence by capital letters (denotes different AA)\n",
    "    seq = sequences[i]\n",
    "    split_seq = re.findall('[A-Z][^A-Z]*', seq)\n",
    "    peptide_len = len(split_seq)\n",
    "\n",
    "    for AA in range(peptide_len):\n",
    "        line = str(AA + 1) + \" \" + str(split_seq[AA])\n",
    "        data.append(line)\n",
    "\n",
    "    data.append(\"\\n\")\n",
    "    data.append(\"BONDS\")\n",
    "    \n",
    "    for j in range(1,peptide_len):\n",
    "        data.append(str(j) + \" \" + str(j + 1) + \" AMB\")\n",
    "\n",
    "    with open(filename, \"w\") as txt_file:\n",
    "        for line in data:\n",
    "            txt_file.write(\"\".join(line) + \"\\n\")    "
   ]
  },
  {
   "cell_type": "code",
   "execution_count": null,
   "id": "dd4d659e-8a21-486c-ba31-d687820b12cb",
   "metadata": {},
   "outputs": [],
   "source": []
  }
 ],
 "metadata": {
  "kernelspec": {
   "display_name": "Python 3 (ipykernel)",
   "language": "python",
   "name": "python3"
  },
  "language_info": {
   "codemirror_mode": {
    "name": "ipython",
    "version": 3
   },
   "file_extension": ".py",
   "mimetype": "text/x-python",
   "name": "python",
   "nbconvert_exporter": "python",
   "pygments_lexer": "ipython3",
   "version": "3.9.18"
  }
 },
 "nbformat": 4,
 "nbformat_minor": 5
}
