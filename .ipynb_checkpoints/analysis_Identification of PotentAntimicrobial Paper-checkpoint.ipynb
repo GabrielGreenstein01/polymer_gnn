{
 "cells": [
  {
   "cell_type": "code",
   "execution_count": null,
   "id": "e45605f0-eeaa-4d77-a32a-67a48edf4007",
   "metadata": {},
   "outputs": [],
   "source": [
    "import pandas as pd\n",
    "import math"
   ]
  },
  {
   "cell_type": "code",
   "execution_count": 1,
   "id": "e91890ca-229a-4caf-85d4-025db67fd3c2",
   "metadata": {},
   "outputs": [],
   "source": [
    "grampa_path = 'data/origin_data/grampa.csv'\n",
    "negative_file_path = 'data/origin_data/origin_negative.csv'"
   ]
  },
  {
   "cell_type": "markdown",
   "id": "6e1d7a72-fc8c-4e27-b44f-dbae79797e6b",
   "metadata": {
    "tags": []
   },
   "source": [
    "### Generate Sample Class"
   ]
  },
  {
   "cell_type": "markdown",
   "id": "bd3013ba-8235-4f7d-9b1d-36986f9b4b90",
   "metadata": {},
   "source": [
    "Class that implements the filtering from the papers code base"
   ]
  },
  {
   "cell_type": "code",
   "execution_count": 2,
   "id": "58190b2b-e90e-4877-aa32-bca2606af108",
   "metadata": {},
   "outputs": [],
   "source": [
    "class GenerateSample():\n",
    "    def __init__(self, grampa_path, negative_file_path):\n",
    "        self.grampa_path = grampa_path\n",
    "        self.negative_file_path = negative_file_path\n",
    "        self.positive_samples = None\n",
    "        self.negative_samples = None\n",
    "        self.all_samples = None\n",
    "\n",
    "    def __call__(self, *args, **kwargs):\n",
    "        grampa_data = pd.read_csv(self.grampa_path, encoding=\"utf8\")\n",
    "        grampa_data = self.filter_data_with_str(\"bacterium\", \"aureus\", grampa_data)\n",
    "        self.positive_samples = self.generate_all_peptides(grampa_data)\n",
    "        self.negative_samples = self.generate_negative_data(self.negative_file_path)\n",
    "        self.all_samples = self.concat_datasets(self.positive_samples, self.negative_samples)\n",
    "        \n",
    "\n",
    "    def filter_data_with_str(self, col_name, str, data):\n",
    "\n",
    "        bool_filter = data[col_name].str.contains(str)\n",
    "        filter_data = data[bool_filter]\n",
    "        return filter_data\n",
    "\n",
    "    def generate_all_peptides(self, data):\n",
    "\n",
    "        data_all = [[], [], []]\n",
    "        for i in data[\"sequence\"].unique():\n",
    "            data_all[0].append(i)\n",
    "            log_num = 0\n",
    "            count = 0\n",
    "            for i in data[data[\"sequence\"] == i][\"value\"]:\n",
    "                log_num += math.pow(10, i)\n",
    "                count += 1\n",
    "            data_all[1].append(float(log_num / count))\n",
    "            data_all[2].append(1)\n",
    "\n",
    "        data_all = list(map(list, zip(*data_all)))\n",
    "        data = pd.DataFrame(data=data_all, columns=[\"sequence\", \"MIC\", \"type\"])\n",
    "        return data\n",
    "\n",
    "    def data2csv(self, data, file_name):\n",
    "\n",
    "        data.to_csv(file_name, encoding=\"utf8\", index=False)\n",
    "\n",
    "    def generate_negative_data(self, negative_file_path):\n",
    "\n",
    "        data_negative = pd.read_csv(negative_file_path, encoding=\"utf8\")\n",
    "        # removes entries with unknown and uncommon amino acid identifiers\n",
    "        data_negative = data_negative[~data_negative[\"Sequence\"].str.contains(\"B|X|Z|O|U\")]\n",
    "        data_negative.reset_index(drop=True, inplace=True)\n",
    "        data = data_negative.rename(columns={'Sequence': 'sequence'}).assign(MIC=8196).assign(type=0)[['sequence', 'MIC', 'type']]\n",
    "\n",
    "        return data\n",
    "\n",
    "\n",
    "    def concat_datasets(self, positive_file, negative_file):\n",
    "\n",
    "        data_concat = pd.concat([positive_file, negative_file], ignore_index=True, axis=0)  # 默认纵向合并0 横向合并1\n",
    "        data_concat = data_concat.sample(frac=1,random_state=None)\n",
    "        data_concat.reset_index(drop=True, inplace=True)\n",
    "        return data_concat\n",
    "\n",
    "    def split_sample(self, sample):\n",
    "        num = len(sample)\n",
    "        train_sample = sample[:int(0.8 * num)]\n",
    "        test_sample = sample[int(0.8 * num):]\n",
    "        self.data2csv(train_sample, self.generate_example_path + \"regression_train_sample.csv\")\n",
    "        self.data2csv(test_sample, self.generate_example_path + \"regression_test_sample.csv\")\n"
   ]
  },
  {
   "cell_type": "markdown",
   "id": "020f892c-332d-47da-82db-47356aa2483f",
   "metadata": {
    "tags": []
   },
   "source": [
    "### Generating samples according to papers library"
   ]
  },
  {
   "cell_type": "code",
   "execution_count": 4,
   "id": "3bd53cdf-7f24-4eac-897c-f402c7ba66a3",
   "metadata": {},
   "outputs": [],
   "source": [
    "samples = GenerateSample(grampa_path, negative_file_path)\n",
    "samples()"
   ]
  },
  {
   "cell_type": "code",
   "execution_count": 5,
   "id": "0173ac70-fcc3-4bf9-a50a-b34cfc7d12a2",
   "metadata": {},
   "outputs": [
    {
     "name": "stdout",
     "output_type": "stream",
     "text": [
      "Using the code from the paper we get the following amount of data.\n",
      "--------------------------------------------------\n",
      "positive_samples\n",
      "4582\n",
      "--------------------------------------------------\n",
      "negative_samples\n",
      "8047\n",
      "--------------------------------------------------\n",
      "all_samples\n",
      "12629\n"
     ]
    }
   ],
   "source": [
    "x = [samples.positive_samples,\n",
    "samples.negative_samples,\n",
    "samples.all_samples]\n",
    "label = ['positive_samples', 'negative_samples', 'all_samples']\n",
    "print('Using the code from the paper we get the following amount of data.')\n",
    "for i, l in zip(x, label):\n",
    "    print('-'*50)\n",
    "    print(l)\n",
    "    print(len(i))"
   ]
  },
  {
   "cell_type": "markdown",
   "id": "00734829-800c-48d6-b503-9dd0624c04f5",
   "metadata": {
    "tags": []
   },
   "source": [
    "# Making negative examples from UniProt Database"
   ]
  },
  {
   "cell_type": "markdown",
   "id": "b1fe94ef-6b18-42ce-9132-880e471ada3e",
   "metadata": {
    "tags": []
   },
   "source": [
    "## Processing"
   ]
  },
  {
   "cell_type": "code",
   "execution_count": 32,
   "id": "b330580a-e5bb-4967-833f-b751ca317a90",
   "metadata": {},
   "outputs": [
    {
     "name": "stdout",
     "output_type": "stream",
     "text": [
      "Original Negative data: 8556\n"
     ]
    }
   ],
   "source": [
    "data_negative = pd.read_csv(negative_file_path, encoding=\"utf8\").rename(columns={'Protein names': 'protein_names'})\n",
    "print(f'Original Negative data: {len(data_negative)}')"
   ]
  },
  {
   "cell_type": "code",
   "execution_count": 33,
   "id": "d4f302cc-8b9b-474c-a392-153f3c38d8cb",
   "metadata": {},
   "outputs": [
    {
     "name": "stdout",
     "output_type": "stream",
     "text": [
      "            Length\n",
      "count  8556.000000\n",
      "mean     25.168887\n",
      "std      11.024466\n",
      "min       2.000000\n",
      "25%      14.000000\n",
      "50%      28.000000\n",
      "75%      36.000000\n",
      "max      40.000000\n",
      "<class 'pandas.core.frame.DataFrame'>\n",
      "RangeIndex: 8556 entries, 0 to 8555\n",
      "Data columns (total 8 columns):\n",
      " #   Column         Non-Null Count  Dtype \n",
      "---  ------         --------------  ----- \n",
      " 0   Entry          8556 non-null   object\n",
      " 1   Status         8556 non-null   object\n",
      " 2   protein_names  8556 non-null   object\n",
      " 3   Organism       8556 non-null   object\n",
      " 4   Length         8556 non-null   int64 \n",
      " 5   Keywords       8455 non-null   object\n",
      " 6   Sequence       8556 non-null   object\n",
      " 7   Features       8556 non-null   object\n",
      "dtypes: int64(1), object(7)\n",
      "memory usage: 534.9+ KB\n",
      "None\n"
     ]
    }
   ],
   "source": [
    "print(data_negative.describe())\n",
    "print(data_negative.info())"
   ]
  },
  {
   "cell_type": "markdown",
   "id": "583039a7-5042-4086-a346-2fecc98c14d0",
   "metadata": {},
   "source": [
    "## Remove unknown amino acids"
   ]
  },
  {
   "cell_type": "code",
   "execution_count": 34,
   "id": "c26b88ff-6316-4643-8e88-101cfb8df87f",
   "metadata": {},
   "outputs": [],
   "source": [
    "data_negative = data_negative[~data_negative[\"Sequence\"].str.contains(\"B|X|Z|O|U\")]\n",
    "data_negative.reset_index(drop=True, inplace=True)"
   ]
  },
  {
   "cell_type": "code",
   "execution_count": 35,
   "id": "4e8a9e42-ef7a-4d98-8733-02be60dc5f70",
   "metadata": {},
   "outputs": [
    {
     "name": "stdout",
     "output_type": "stream",
     "text": [
      "<class 'pandas.core.frame.DataFrame'>\n",
      "RangeIndex: 8047 entries, 0 to 8046\n",
      "Data columns (total 8 columns):\n",
      " #   Column         Non-Null Count  Dtype \n",
      "---  ------         --------------  ----- \n",
      " 0   Entry          8047 non-null   object\n",
      " 1   Status         8047 non-null   object\n",
      " 2   protein_names  8047 non-null   object\n",
      " 3   Organism       8047 non-null   object\n",
      " 4   Length         8047 non-null   int64 \n",
      " 5   Keywords       7947 non-null   object\n",
      " 6   Sequence       8047 non-null   object\n",
      " 7   Features       8047 non-null   object\n",
      "dtypes: int64(1), object(7)\n",
      "memory usage: 503.1+ KB\n"
     ]
    }
   ],
   "source": [
    "data_negative.info()"
   ]
  },
  {
   "cell_type": "markdown",
   "id": "a3dd1cda-622e-46d0-bcaa-109dfa17d040",
   "metadata": {},
   "source": [
    "## Assign MIC value to negative samples (Absurdly high MIC)"
   ]
  },
  {
   "cell_type": "code",
   "execution_count": 36,
   "id": "39f6a822-7dfd-4f87-bd4e-da65d5f1ecf1",
   "metadata": {
    "scrolled": true
   },
   "outputs": [
    {
     "data": {
      "text/html": [
       "<div>\n",
       "<style scoped>\n",
       "    .dataframe tbody tr th:only-of-type {\n",
       "        vertical-align: middle;\n",
       "    }\n",
       "\n",
       "    .dataframe tbody tr th {\n",
       "        vertical-align: top;\n",
       "    }\n",
       "\n",
       "    .dataframe thead th {\n",
       "        text-align: right;\n",
       "    }\n",
       "</style>\n",
       "<table border=\"1\" class=\"dataframe\">\n",
       "  <thead>\n",
       "    <tr style=\"text-align: right;\">\n",
       "      <th></th>\n",
       "      <th>sequence</th>\n",
       "      <th>MIC</th>\n",
       "      <th>type</th>\n",
       "    </tr>\n",
       "  </thead>\n",
       "  <tbody>\n",
       "    <tr>\n",
       "      <th>0</th>\n",
       "      <td>AAAAPGAAGGAQLPLGNRERKAGCKNFFWKTFSSC</td>\n",
       "      <td>8196</td>\n",
       "      <td>0</td>\n",
       "    </tr>\n",
       "    <tr>\n",
       "      <th>1</th>\n",
       "      <td>AAAAPPRRGPSGPDA</td>\n",
       "      <td>8196</td>\n",
       "      <td>0</td>\n",
       "    </tr>\n",
       "    <tr>\n",
       "      <th>2</th>\n",
       "      <td>AAAELSLVQLESLREVCEQ</td>\n",
       "      <td>8196</td>\n",
       "      <td>0</td>\n",
       "    </tr>\n",
       "    <tr>\n",
       "      <th>3</th>\n",
       "      <td>AAAGDNFMRF</td>\n",
       "      <td>8196</td>\n",
       "      <td>0</td>\n",
       "    </tr>\n",
       "    <tr>\n",
       "      <th>4</th>\n",
       "      <td>AAAISCVGSKECLPKCKAQGCKSGKCMNKKCKCYC</td>\n",
       "      <td>8196</td>\n",
       "      <td>0</td>\n",
       "    </tr>\n",
       "    <tr>\n",
       "      <th>...</th>\n",
       "      <td>...</td>\n",
       "      <td>...</td>\n",
       "      <td>...</td>\n",
       "    </tr>\n",
       "    <tr>\n",
       "      <th>5910</th>\n",
       "      <td>YYEEYVDGQGMVVR</td>\n",
       "      <td>8196</td>\n",
       "      <td>0</td>\n",
       "    </tr>\n",
       "    <tr>\n",
       "      <th>5911</th>\n",
       "      <td>YYICESCWTCESCAGSTESSCVSACNACDLCPNK</td>\n",
       "      <td>8196</td>\n",
       "      <td>0</td>\n",
       "    </tr>\n",
       "    <tr>\n",
       "      <th>5912</th>\n",
       "      <td>YYTVLFGVSRALGLPLERPK</td>\n",
       "      <td>8196</td>\n",
       "      <td>0</td>\n",
       "    </tr>\n",
       "    <tr>\n",
       "      <th>5913</th>\n",
       "      <td>YYVDLQNR</td>\n",
       "      <td>8196</td>\n",
       "      <td>0</td>\n",
       "    </tr>\n",
       "    <tr>\n",
       "      <th>5914</th>\n",
       "      <td>YYVWIGLRWVNIDCVEGNWSDYSSVSYENLVR</td>\n",
       "      <td>8196</td>\n",
       "      <td>0</td>\n",
       "    </tr>\n",
       "  </tbody>\n",
       "</table>\n",
       "<p>5915 rows × 3 columns</p>\n",
       "</div>"
      ],
      "text/plain": [
       "                                 sequence   MIC  type\n",
       "0     AAAAPGAAGGAQLPLGNRERKAGCKNFFWKTFSSC  8196     0\n",
       "1                         AAAAPPRRGPSGPDA  8196     0\n",
       "2                     AAAELSLVQLESLREVCEQ  8196     0\n",
       "3                              AAAGDNFMRF  8196     0\n",
       "4     AAAISCVGSKECLPKCKAQGCKSGKCMNKKCKCYC  8196     0\n",
       "...                                   ...   ...   ...\n",
       "5910                       YYEEYVDGQGMVVR  8196     0\n",
       "5911   YYICESCWTCESCAGSTESSCVSACNACDLCPNK  8196     0\n",
       "5912                 YYTVLFGVSRALGLPLERPK  8196     0\n",
       "5913                             YYVDLQNR  8196     0\n",
       "5914     YYVWIGLRWVNIDCVEGNWSDYSSVSYENLVR  8196     0\n",
       "\n",
       "[5915 rows x 3 columns]"
      ]
     },
     "execution_count": 36,
     "metadata": {},
     "output_type": "execute_result"
    }
   ],
   "source": [
    "data = data_negative.rename(columns={'Sequence': 'sequence'})\n",
    "data_filtered = data.groupby('sequence', as_index=False).agg({'sequence':'first'}).assign(MIC=8196).assign(type=0)[['sequence', 'MIC', 'type']]\n",
    "data_filtered"
   ]
  },
  {
   "cell_type": "markdown",
   "id": "713253d5-84b8-4fad-ba2d-e5584ce4c8f0",
   "metadata": {
    "tags": []
   },
   "source": [
    "## Filter by sequence length. Keep peptides between 0 - 40 AAs long"
   ]
  },
  {
   "cell_type": "code",
   "execution_count": 43,
   "id": "7530c622-0db9-4b19-802f-3c8057f6e337",
   "metadata": {},
   "outputs": [],
   "source": [
    "x = data_filtered.sequence.map(lambda x: True if 0 < len(x) else False)\n",
    "data = data_filtered[x]"
   ]
  },
  {
   "cell_type": "code",
   "execution_count": 44,
   "id": "1f3e0097-60c4-42e3-8711-5206f6979a09",
   "metadata": {},
   "outputs": [
    {
     "name": "stdout",
     "output_type": "stream",
     "text": [
      "<class 'pandas.core.frame.DataFrame'>\n",
      "Int64Index: 5915 entries, 0 to 5914\n",
      "Data columns (total 3 columns):\n",
      " #   Column    Non-Null Count  Dtype \n",
      "---  ------    --------------  ----- \n",
      " 0   sequence  5915 non-null   object\n",
      " 1   MIC       5915 non-null   int64 \n",
      " 2   type      5915 non-null   int64 \n",
      "dtypes: int64(2), object(1)\n",
      "memory usage: 184.8+ KB\n"
     ]
    }
   ],
   "source": [
    "data.info()"
   ]
  },
  {
   "cell_type": "markdown",
   "id": "11323ddd-89fa-43e6-ae41-54631556a5a7",
   "metadata": {},
   "source": [
    "## Results"
   ]
  },
  {
   "cell_type": "code",
   "execution_count": 45,
   "id": "b78299c9-1b69-448b-ab98-bc2a0d6b8323",
   "metadata": {},
   "outputs": [
    {
     "name": "stdout",
     "output_type": "stream",
     "text": [
      "<class 'pandas.core.frame.DataFrame'>\n",
      "Int64Index: 5915 entries, 0 to 5914\n",
      "Data columns (total 3 columns):\n",
      " #   Column    Non-Null Count  Dtype \n",
      "---  ------    --------------  ----- \n",
      " 0   sequence  5915 non-null   object\n",
      " 1   MIC       5915 non-null   int64 \n",
      " 2   type      5915 non-null   int64 \n",
      "dtypes: int64(2), object(1)\n",
      "memory usage: 184.8+ KB\n"
     ]
    }
   ],
   "source": [
    "data.info()"
   ]
  },
  {
   "cell_type": "code",
   "execution_count": 46,
   "id": "8029584a-4e1f-40e6-8e9f-1859b2356d70",
   "metadata": {},
   "outputs": [
    {
     "data": {
      "text/plain": [
       "5915"
      ]
     },
     "execution_count": 46,
     "metadata": {},
     "output_type": "execute_result"
    }
   ],
   "source": [
    "data.sequence.nunique()"
   ]
  },
  {
   "cell_type": "code",
   "execution_count": 47,
   "id": "ca6462ef-304d-419a-81b7-86ffcececb24",
   "metadata": {},
   "outputs": [
    {
     "name": "stdout",
     "output_type": "stream",
     "text": [
      "The paper reports 5,898 negative samples\n"
     ]
    }
   ],
   "source": [
    "print('The paper reports 5,898 negative samples')"
   ]
  },
  {
   "cell_type": "code",
   "execution_count": 48,
   "id": "7d4030cf-79d0-47e6-a9c1-0b3b293db9bb",
   "metadata": {},
   "outputs": [
    {
     "name": "stdout",
     "output_type": "stream",
     "text": [
      "5915 NEGATIVE SAMPLES after filtering by sequence and amino acids.\n"
     ]
    }
   ],
   "source": [
    "print(len(data), 'NEGATIVE SAMPLES after filtering by sequence and amino acids.')"
   ]
  },
  {
   "cell_type": "code",
   "execution_count": 49,
   "id": "506778f3-6951-488a-acdb-4ecaaa7bc0a1",
   "metadata": {},
   "outputs": [],
   "source": [
    "data[['sequence', 'MIC']].to_csv('uniprot_negatives.csv')"
   ]
  },
  {
   "cell_type": "code",
   "execution_count": 50,
   "id": "6b1458a2-8887-4070-972c-39c87ff6127e",
   "metadata": {},
   "outputs": [],
   "source": [
    "acceptable_negative_sequences = data.sequence"
   ]
  },
  {
   "cell_type": "code",
   "execution_count": 51,
   "id": "f95133fe-e81c-4c9d-95ae-ee84cdcbc2fe",
   "metadata": {},
   "outputs": [],
   "source": [
    "negative_sequences = list(set(acceptable_negative_sequences.to_list()))"
   ]
  },
  {
   "cell_type": "code",
   "execution_count": 52,
   "id": "deb123c6-3f68-4981-8099-d9d24e1741ff",
   "metadata": {},
   "outputs": [
    {
     "data": {
      "text/plain": [
       "5915"
      ]
     },
     "execution_count": 52,
     "metadata": {},
     "output_type": "execute_result"
    }
   ],
   "source": [
    "len(negative_sequences)"
   ]
  },
  {
   "cell_type": "code",
   "execution_count": 80,
   "id": "d79aaae3-c08e-4151-92ef-037013e5f8e9",
   "metadata": {},
   "outputs": [],
   "source": [
    "import json\n",
    "with open('/Users/hectorlopezhernandez/Dropbox/ML-Antimicrobial/ML-guided-polymer-design/data/literature_datasets/negative_sequences.json', 'w') as f:\n",
    "    json.dump(negative_sequences, f)"
   ]
  },
  {
   "cell_type": "markdown",
   "id": "dbb5db18-b8f0-4b70-a246-e37df7d494b8",
   "metadata": {
    "tags": []
   },
   "source": [
    "# Making positive data"
   ]
  },
  {
   "cell_type": "markdown",
   "id": "3044faa9-ee59-4a8f-ba12-fce09bf389b4",
   "metadata": {
    "tags": []
   },
   "source": [
    "## Processing"
   ]
  },
  {
   "cell_type": "code",
   "execution_count": 97,
   "id": "4a4f494a-ea2c-4746-81cb-9adfb7e56ae4",
   "metadata": {},
   "outputs": [
    {
     "data": {
      "text/html": [
       "<div>\n",
       "<style scoped>\n",
       "    .dataframe tbody tr th:only-of-type {\n",
       "        vertical-align: middle;\n",
       "    }\n",
       "\n",
       "    .dataframe tbody tr th {\n",
       "        vertical-align: top;\n",
       "    }\n",
       "\n",
       "    .dataframe thead th {\n",
       "        text-align: right;\n",
       "    }\n",
       "</style>\n",
       "<table border=\"1\" class=\"dataframe\">\n",
       "  <thead>\n",
       "    <tr style=\"text-align: right;\">\n",
       "      <th></th>\n",
       "      <th>bacterium</th>\n",
       "      <th>modifications</th>\n",
       "      <th>sequence</th>\n",
       "      <th>strain</th>\n",
       "      <th>unit</th>\n",
       "      <th>url_source</th>\n",
       "      <th>value</th>\n",
       "      <th>is_modified</th>\n",
       "      <th>has_unusual_modification</th>\n",
       "      <th>has_cterminal_amidation</th>\n",
       "      <th>datasource_has_modifications</th>\n",
       "      <th>database</th>\n",
       "    </tr>\n",
       "  </thead>\n",
       "  <tbody>\n",
       "    <tr>\n",
       "      <th>0</th>\n",
       "      <td>B. subtilis</td>\n",
       "      <td>[disulfide]</td>\n",
       "      <td>GLPRKILCAIAKKKGKCKGPLKLVCKC</td>\n",
       "      <td>NaN</td>\n",
       "      <td>uM</td>\n",
       "      <td>http://aps.unmc.edu/AP/database/query_output.p...</td>\n",
       "      <td>-0.397940</td>\n",
       "      <td>True</td>\n",
       "      <td>False</td>\n",
       "      <td>False</td>\n",
       "      <td>True</td>\n",
       "      <td>APD</td>\n",
       "    </tr>\n",
       "    <tr>\n",
       "      <th>1</th>\n",
       "      <td>S. agalactiae</td>\n",
       "      <td>[disulfide]</td>\n",
       "      <td>GFGCPGDAYQCSEHCRALGGGRTGGYCAGPWYLGHPTCTCSF</td>\n",
       "      <td>NaN</td>\n",
       "      <td>uM</td>\n",
       "      <td>http://aps.unmc.edu/AP/database/query_output.p...</td>\n",
       "      <td>-1.859819</td>\n",
       "      <td>True</td>\n",
       "      <td>False</td>\n",
       "      <td>False</td>\n",
       "      <td>True</td>\n",
       "      <td>APD</td>\n",
       "    </tr>\n",
       "    <tr>\n",
       "      <th>2</th>\n",
       "      <td>S. aureus</td>\n",
       "      <td>[disulfide]</td>\n",
       "      <td>GFGCPGDAYQCSEHCRALGGGRTGGYCAGPWYLGHPTCTCSF</td>\n",
       "      <td>ATCC29213</td>\n",
       "      <td>uM</td>\n",
       "      <td>http://aps.unmc.edu/AP/database/query_output.p...</td>\n",
       "      <td>0.566150</td>\n",
       "      <td>True</td>\n",
       "      <td>False</td>\n",
       "      <td>False</td>\n",
       "      <td>True</td>\n",
       "      <td>APD</td>\n",
       "    </tr>\n",
       "    <tr>\n",
       "      <th>3</th>\n",
       "      <td>S. pneumonia</td>\n",
       "      <td>[disulfide]</td>\n",
       "      <td>GFGCPGDAYQCSEHCRALGGGRTGGYCAGPWYLGHPTCTCSF</td>\n",
       "      <td>ATCC49619</td>\n",
       "      <td>uM</td>\n",
       "      <td>http://aps.unmc.edu/AP/database/query_output.p...</td>\n",
       "      <td>-1.240030</td>\n",
       "      <td>True</td>\n",
       "      <td>False</td>\n",
       "      <td>False</td>\n",
       "      <td>True</td>\n",
       "      <td>APD</td>\n",
       "    </tr>\n",
       "    <tr>\n",
       "      <th>4</th>\n",
       "      <td>S. epidermidis</td>\n",
       "      <td>[disulfide]</td>\n",
       "      <td>GFGCPGDAYQCSEHCRALGGGRTGGYCAGPWYLGHPTCTCSF</td>\n",
       "      <td>ATCC12228</td>\n",
       "      <td>uM</td>\n",
       "      <td>http://aps.unmc.edu/AP/database/query_output.p...</td>\n",
       "      <td>0.566150</td>\n",
       "      <td>True</td>\n",
       "      <td>False</td>\n",
       "      <td>False</td>\n",
       "      <td>True</td>\n",
       "      <td>APD</td>\n",
       "    </tr>\n",
       "  </tbody>\n",
       "</table>\n",
       "</div>"
      ],
      "text/plain": [
       "        bacterium modifications                                    sequence  \\\n",
       "0     B. subtilis   [disulfide]                 GLPRKILCAIAKKKGKCKGPLKLVCKC   \n",
       "1   S. agalactiae   [disulfide]  GFGCPGDAYQCSEHCRALGGGRTGGYCAGPWYLGHPTCTCSF   \n",
       "2       S. aureus   [disulfide]  GFGCPGDAYQCSEHCRALGGGRTGGYCAGPWYLGHPTCTCSF   \n",
       "3    S. pneumonia   [disulfide]  GFGCPGDAYQCSEHCRALGGGRTGGYCAGPWYLGHPTCTCSF   \n",
       "4  S. epidermidis   [disulfide]  GFGCPGDAYQCSEHCRALGGGRTGGYCAGPWYLGHPTCTCSF   \n",
       "\n",
       "      strain unit                                         url_source  \\\n",
       "0        NaN   uM  http://aps.unmc.edu/AP/database/query_output.p...   \n",
       "1        NaN   uM  http://aps.unmc.edu/AP/database/query_output.p...   \n",
       "2  ATCC29213   uM  http://aps.unmc.edu/AP/database/query_output.p...   \n",
       "3  ATCC49619   uM  http://aps.unmc.edu/AP/database/query_output.p...   \n",
       "4  ATCC12228   uM  http://aps.unmc.edu/AP/database/query_output.p...   \n",
       "\n",
       "      value  is_modified  has_unusual_modification  has_cterminal_amidation  \\\n",
       "0 -0.397940         True                     False                    False   \n",
       "1 -1.859819         True                     False                    False   \n",
       "2  0.566150         True                     False                    False   \n",
       "3 -1.240030         True                     False                    False   \n",
       "4  0.566150         True                     False                    False   \n",
       "\n",
       "   datasource_has_modifications database  \n",
       "0                          True      APD  \n",
       "1                          True      APD  \n",
       "2                          True      APD  \n",
       "3                          True      APD  \n",
       "4                          True      APD  "
      ]
     },
     "execution_count": 97,
     "metadata": {},
     "output_type": "execute_result"
    }
   ],
   "source": [
    "grampa_data = pd.read_csv(grampa_path, encoding=\"utf8\").drop('Unnamed: 0', axis=1)\n",
    "grampa_data.head()"
   ]
  },
  {
   "cell_type": "code",
   "execution_count": 98,
   "id": "98a1979b-d745-4925-b4d8-7e8f8a82ef29",
   "metadata": {},
   "outputs": [
    {
     "name": "stdout",
     "output_type": "stream",
     "text": [
      "<class 'pandas.core.frame.DataFrame'>\n",
      "RangeIndex: 51345 entries, 0 to 51344\n",
      "Data columns (total 12 columns):\n",
      " #   Column                        Non-Null Count  Dtype  \n",
      "---  ------                        --------------  -----  \n",
      " 0   bacterium                     51345 non-null  object \n",
      " 1   modifications                 51345 non-null  object \n",
      " 2   sequence                      51345 non-null  object \n",
      " 3   strain                        29111 non-null  object \n",
      " 4   unit                          51345 non-null  object \n",
      " 5   url_source                    51345 non-null  object \n",
      " 6   value                         51345 non-null  float64\n",
      " 7   is_modified                   51345 non-null  bool   \n",
      " 8   has_unusual_modification      51345 non-null  bool   \n",
      " 9   has_cterminal_amidation       51345 non-null  bool   \n",
      " 10  datasource_has_modifications  51345 non-null  bool   \n",
      " 11  database                      51345 non-null  object \n",
      "dtypes: bool(4), float64(1), object(7)\n",
      "memory usage: 3.3+ MB\n"
     ]
    }
   ],
   "source": [
    "grampa_data.info()"
   ]
  },
  {
   "cell_type": "markdown",
   "id": "87443ef8-537d-40cc-ac7f-1fdde009dd22",
   "metadata": {
    "tags": []
   },
   "source": [
    "## Filter by target aureus"
   ]
  },
  {
   "cell_type": "code",
   "execution_count": 99,
   "id": "466c4e1d-d596-4517-a71e-c24cdae318e3",
   "metadata": {},
   "outputs": [],
   "source": [
    "col_name = \"bacterium\"\n",
    "target = \"aureus\"\n",
    "\n",
    "bool_filter = grampa_data[col_name].str.contains(target)\n",
    "filter_data = grampa_data[bool_filter]"
   ]
  },
  {
   "cell_type": "code",
   "execution_count": 100,
   "id": "fb129f78-4c59-4737-b529-df67536d49da",
   "metadata": {},
   "outputs": [
    {
     "name": "stdout",
     "output_type": "stream",
     "text": [
      "<class 'pandas.core.frame.DataFrame'>\n",
      "Int64Index: 8955 entries, 2 to 51341\n",
      "Data columns (total 12 columns):\n",
      " #   Column                        Non-Null Count  Dtype  \n",
      "---  ------                        --------------  -----  \n",
      " 0   bacterium                     8955 non-null   object \n",
      " 1   modifications                 8955 non-null   object \n",
      " 2   sequence                      8955 non-null   object \n",
      " 3   strain                        5209 non-null   object \n",
      " 4   unit                          8955 non-null   object \n",
      " 5   url_source                    8955 non-null   object \n",
      " 6   value                         8955 non-null   float64\n",
      " 7   is_modified                   8955 non-null   bool   \n",
      " 8   has_unusual_modification      8955 non-null   bool   \n",
      " 9   has_cterminal_amidation       8955 non-null   bool   \n",
      " 10  datasource_has_modifications  8955 non-null   bool   \n",
      " 11  database                      8955 non-null   object \n",
      "dtypes: bool(4), float64(1), object(7)\n",
      "memory usage: 664.6+ KB\n"
     ]
    }
   ],
   "source": [
    "filter_data.info()"
   ]
  },
  {
   "cell_type": "markdown",
   "id": "fa0f7fa9-15cf-433a-80aa-e34f28ef06bc",
   "metadata": {
    "tags": []
   },
   "source": [
    "data filtering on target aureus reduces data from 51345 to 8955 entries"
   ]
  },
  {
   "cell_type": "code",
   "execution_count": 101,
   "id": "fd7b4e31-f926-4faa-8dd9-05854e592be1",
   "metadata": {},
   "outputs": [
    {
     "data": {
      "text/html": [
       "<div>\n",
       "<style scoped>\n",
       "    .dataframe tbody tr th:only-of-type {\n",
       "        vertical-align: middle;\n",
       "    }\n",
       "\n",
       "    .dataframe tbody tr th {\n",
       "        vertical-align: top;\n",
       "    }\n",
       "\n",
       "    .dataframe thead th {\n",
       "        text-align: right;\n",
       "    }\n",
       "</style>\n",
       "<table border=\"1\" class=\"dataframe\">\n",
       "  <thead>\n",
       "    <tr style=\"text-align: right;\">\n",
       "      <th></th>\n",
       "      <th>bacterium</th>\n",
       "      <th>modifications</th>\n",
       "      <th>sequence</th>\n",
       "      <th>strain</th>\n",
       "      <th>unit</th>\n",
       "      <th>url_source</th>\n",
       "      <th>value</th>\n",
       "      <th>is_modified</th>\n",
       "      <th>has_unusual_modification</th>\n",
       "      <th>has_cterminal_amidation</th>\n",
       "      <th>datasource_has_modifications</th>\n",
       "      <th>database</th>\n",
       "    </tr>\n",
       "  </thead>\n",
       "  <tbody>\n",
       "    <tr>\n",
       "      <th>2</th>\n",
       "      <td>S. aureus</td>\n",
       "      <td>[disulfide]</td>\n",
       "      <td>GFGCPGDAYQCSEHCRALGGGRTGGYCAGPWYLGHPTCTCSF</td>\n",
       "      <td>ATCC29213</td>\n",
       "      <td>uM</td>\n",
       "      <td>http://aps.unmc.edu/AP/database/query_output.p...</td>\n",
       "      <td>0.566150</td>\n",
       "      <td>True</td>\n",
       "      <td>False</td>\n",
       "      <td>False</td>\n",
       "      <td>True</td>\n",
       "      <td>APD</td>\n",
       "    </tr>\n",
       "    <tr>\n",
       "      <th>7</th>\n",
       "      <td>S. aureus</td>\n",
       "      <td>[]</td>\n",
       "      <td>LVKDNPLDISPKQVQALCTDLVIRCMCCC</td>\n",
       "      <td>NaN</td>\n",
       "      <td>uM</td>\n",
       "      <td>http://aps.unmc.edu/AP/database/query_output.p...</td>\n",
       "      <td>0.491362</td>\n",
       "      <td>False</td>\n",
       "      <td>False</td>\n",
       "      <td>False</td>\n",
       "      <td>True</td>\n",
       "      <td>APD</td>\n",
       "    </tr>\n",
       "    <tr>\n",
       "      <th>11</th>\n",
       "      <td>S. aureus</td>\n",
       "      <td>[]</td>\n",
       "      <td>YPELQQDLIARLL</td>\n",
       "      <td>NaN</td>\n",
       "      <td>uM</td>\n",
       "      <td>http://aps.unmc.edu/AP/database/query_output.p...</td>\n",
       "      <td>0.799341</td>\n",
       "      <td>False</td>\n",
       "      <td>False</td>\n",
       "      <td>False</td>\n",
       "      <td>True</td>\n",
       "      <td>APD</td>\n",
       "    </tr>\n",
       "    <tr>\n",
       "      <th>15</th>\n",
       "      <td>S. aureus</td>\n",
       "      <td>[disulfide]</td>\n",
       "      <td>GVFTLIKGATQLIGKTLGKELGKTGLELMACKITEQC</td>\n",
       "      <td>NaN</td>\n",
       "      <td>uM</td>\n",
       "      <td>http://aps.unmc.edu/AP/database/query_output.p...</td>\n",
       "      <td>0.556303</td>\n",
       "      <td>True</td>\n",
       "      <td>False</td>\n",
       "      <td>False</td>\n",
       "      <td>True</td>\n",
       "      <td>APD</td>\n",
       "    </tr>\n",
       "    <tr>\n",
       "      <th>19</th>\n",
       "      <td>S. aureus</td>\n",
       "      <td>[disulfide]</td>\n",
       "      <td>FLPAIAGMAAKFLPKIFCAISKKC</td>\n",
       "      <td>NaN</td>\n",
       "      <td>uM</td>\n",
       "      <td>http://aps.unmc.edu/AP/database/query_output.p...</td>\n",
       "      <td>0.000000</td>\n",
       "      <td>True</td>\n",
       "      <td>False</td>\n",
       "      <td>False</td>\n",
       "      <td>True</td>\n",
       "      <td>APD</td>\n",
       "    </tr>\n",
       "  </tbody>\n",
       "</table>\n",
       "</div>"
      ],
      "text/plain": [
       "    bacterium modifications                                    sequence  \\\n",
       "2   S. aureus   [disulfide]  GFGCPGDAYQCSEHCRALGGGRTGGYCAGPWYLGHPTCTCSF   \n",
       "7   S. aureus            []               LVKDNPLDISPKQVQALCTDLVIRCMCCC   \n",
       "11  S. aureus            []                               YPELQQDLIARLL   \n",
       "15  S. aureus   [disulfide]       GVFTLIKGATQLIGKTLGKELGKTGLELMACKITEQC   \n",
       "19  S. aureus   [disulfide]                    FLPAIAGMAAKFLPKIFCAISKKC   \n",
       "\n",
       "       strain unit                                         url_source  \\\n",
       "2   ATCC29213   uM  http://aps.unmc.edu/AP/database/query_output.p...   \n",
       "7         NaN   uM  http://aps.unmc.edu/AP/database/query_output.p...   \n",
       "11        NaN   uM  http://aps.unmc.edu/AP/database/query_output.p...   \n",
       "15        NaN   uM  http://aps.unmc.edu/AP/database/query_output.p...   \n",
       "19        NaN   uM  http://aps.unmc.edu/AP/database/query_output.p...   \n",
       "\n",
       "       value  is_modified  has_unusual_modification  has_cterminal_amidation  \\\n",
       "2   0.566150         True                     False                    False   \n",
       "7   0.491362        False                     False                    False   \n",
       "11  0.799341        False                     False                    False   \n",
       "15  0.556303         True                     False                    False   \n",
       "19  0.000000         True                     False                    False   \n",
       "\n",
       "    datasource_has_modifications database  \n",
       "2                           True      APD  \n",
       "7                           True      APD  \n",
       "11                          True      APD  \n",
       "15                          True      APD  \n",
       "19                          True      APD  "
      ]
     },
     "execution_count": 101,
     "metadata": {},
     "output_type": "execute_result"
    }
   ],
   "source": [
    "filter_data.head()"
   ]
  },
  {
   "cell_type": "markdown",
   "id": "e2adad74-4b96-41fd-9a6c-702cb1c01e15",
   "metadata": {},
   "source": [
    "### Keep only lengths between 5 and 50 AA long"
   ]
  },
  {
   "cell_type": "code",
   "execution_count": 102,
   "id": "2121b5b1-1ef4-4408-bb78-0111d97684e2",
   "metadata": {},
   "outputs": [
    {
     "data": {
      "text/plain": [
       "True     8658\n",
       "False     297\n",
       "Name: sequence, dtype: int64"
      ]
     },
     "execution_count": 102,
     "metadata": {},
     "output_type": "execute_result"
    }
   ],
   "source": [
    "# Lets remove sequences above 40 long\n",
    "x = filter_data.sequence.map(lambda x: True if 5 <= len(x) <= 50 else False)\n",
    "x.value_counts()"
   ]
  },
  {
   "cell_type": "code",
   "execution_count": 103,
   "id": "cda164db-d17b-462b-a919-076afbf60b8d",
   "metadata": {},
   "outputs": [],
   "source": [
    "grampa_filtered = filter_data[x]"
   ]
  },
  {
   "cell_type": "markdown",
   "id": "a0cf3ee9-94af-4528-8548-c1819cf5724c",
   "metadata": {},
   "source": [
    "### Convert logMIC to MIC"
   ]
  },
  {
   "cell_type": "code",
   "execution_count": 104,
   "id": "21da35a2-8bdb-4a41-b31b-053b2531d75a",
   "metadata": {},
   "outputs": [
    {
     "name": "stdout",
     "output_type": "stream",
     "text": [
      "statistics for logMIC values\n"
     ]
    },
    {
     "data": {
      "text/plain": [
       "count    8658.000000\n",
       "mean        1.077654\n",
       "std         0.745624\n",
       "min        -2.612581\n",
       "25%         0.544343\n",
       "50%         1.000000\n",
       "75%         1.602060\n",
       "max         3.961909\n",
       "Name: value, dtype: float64"
      ]
     },
     "execution_count": 104,
     "metadata": {},
     "output_type": "execute_result"
    }
   ],
   "source": [
    "print('statistics for logMIC values')\n",
    "grampa_filtered.value.describe()"
   ]
  },
  {
   "cell_type": "code",
   "execution_count": 105,
   "id": "4a0aed2a-3211-41f8-a4f8-bbdf94619760",
   "metadata": {},
   "outputs": [
    {
     "name": "stdout",
     "output_type": "stream",
     "text": [
      "statistics for MIC values\n"
     ]
    },
    {
     "data": {
      "text/plain": [
       "count    8658.000000\n",
       "mean       63.473947\n",
       "std       263.696794\n",
       "min         0.002440\n",
       "25%         3.502219\n",
       "50%        10.000000\n",
       "75%        40.000000\n",
       "max      9160.286100\n",
       "Name: MIC, dtype: float64"
      ]
     },
     "execution_count": 105,
     "metadata": {},
     "output_type": "execute_result"
    }
   ],
   "source": [
    "grampa_filtered = grampa_filtered.assign(MIC = lambda x: 10**x['value'])\n",
    "print('statistics for MIC values')\n",
    "grampa_filtered.MIC.describe()"
   ]
  },
  {
   "cell_type": "markdown",
   "id": "9f9f0194-31b4-4c1a-97b3-d33e68e20cbe",
   "metadata": {
    "tags": []
   },
   "source": [
    "### Keep only c-terminal amyddation"
   ]
  },
  {
   "cell_type": "code",
   "execution_count": 106,
   "id": "38531dcb-c21b-4369-bfbe-160d94809484",
   "metadata": {},
   "outputs": [],
   "source": [
    "grampa_filtered = grampa_filtered[grampa_filtered.has_cterminal_amidation == True]"
   ]
  },
  {
   "cell_type": "code",
   "execution_count": null,
   "id": "b1c16765-d5f8-4d47-aa5f-40fa89f2aed4",
   "metadata": {},
   "outputs": [
    {
     "name": "stdout",
     "output_type": "stream",
     "text": [
      "There are 1920 unique sequences in the filtered dataset\n"
     ]
    }
   ],
   "source": [
    "nunique_sequences = grampa_filtered.sequence.nunique()\n",
    "print(f'There are {nunique_sequences} unique sequences in the filtered dataset')"
   ]
  },
  {
   "cell_type": "code",
   "execution_count": null,
   "id": "7daeeb49-5baf-4d46-8d98-d52ce3e07fe4",
   "metadata": {},
   "outputs": [],
   "source": [
    "m = grampa_filtered.has_unusual_modification == False\n",
    "grampa_filtered = grampa_filtered[m]"
   ]
  },
  {
   "cell_type": "code",
   "execution_count": null,
   "id": "2ccc70cc-c439-46c8-bdee-b56656a97aca",
   "metadata": {},
   "outputs": [
    {
     "name": "stdout",
     "output_type": "stream",
     "text": [
      "There are 1737 unique sequences in the filtered dataset\n"
     ]
    }
   ],
   "source": [
    "nunique_sequences = grampa_filtered.sequence.nunique()\n",
    "print(f'There are {nunique_sequences} unique sequences in the filtered dataset')"
   ]
  },
  {
   "cell_type": "markdown",
   "id": "b40f1938-283d-47d0-8727-e6d65b3c2fcc",
   "metadata": {},
   "source": [
    "## Take mean from sequence repeats. (modify later to geometric mean)"
   ]
  },
  {
   "cell_type": "code",
   "execution_count": 110,
   "id": "c5c2c1ac-749c-4f16-b9f1-5ed901f46b10",
   "metadata": {},
   "outputs": [],
   "source": [
    "import numpy as np\n",
    "def geometric_mean(series):\n",
    "    return np.exp(np.mean(np.log(series)))\n",
    "    "
   ]
  },
  {
   "cell_type": "code",
   "execution_count": 111,
   "id": "f156f1a2-ea66-46ad-887d-d281c0389acb",
   "metadata": {},
   "outputs": [
    {
     "name": "stdout",
     "output_type": "stream",
     "text": [
      "<class 'pandas.core.frame.DataFrame'>\n",
      "Int64Index: 2558 entries, 40 to 47294\n",
      "Data columns (total 13 columns):\n",
      " #   Column                        Non-Null Count  Dtype  \n",
      "---  ------                        --------------  -----  \n",
      " 0   bacterium                     2558 non-null   object \n",
      " 1   modifications                 2558 non-null   object \n",
      " 2   sequence                      2558 non-null   object \n",
      " 3   strain                        1883 non-null   object \n",
      " 4   unit                          2558 non-null   object \n",
      " 5   url_source                    2558 non-null   object \n",
      " 6   value                         2558 non-null   float64\n",
      " 7   is_modified                   2558 non-null   bool   \n",
      " 8   has_unusual_modification      2558 non-null   bool   \n",
      " 9   has_cterminal_amidation       2558 non-null   bool   \n",
      " 10  datasource_has_modifications  2558 non-null   bool   \n",
      " 11  database                      2558 non-null   object \n",
      " 12  MIC                           2558 non-null   float64\n",
      "dtypes: bool(4), float64(2), object(7)\n",
      "memory usage: 209.8+ KB\n"
     ]
    }
   ],
   "source": [
    "grampa_filtered.info()"
   ]
  },
  {
   "cell_type": "code",
   "execution_count": 116,
   "id": "270a9816-e3e3-4a2e-ab4b-69f7f7b44f73",
   "metadata": {},
   "outputs": [],
   "source": [
    "average_MIC_unique_sequences = grampa_filtered.groupby('sequence').agg({'MIC': [geometric_mean, 'mean', 'size']})\n",
    "average_MIC_unique_sequences.columns = average_MIC_unique_sequences.columns.droplevel()\n",
    "average_MIC_unique_sequences = average_MIC_unique_sequences.rename(columns={'mean': 'MIC_mean', 'size': 'occurences', 'geometric_mean': \n",
    "                                                                           'MIC_geometric_mean'})"
   ]
  },
  {
   "cell_type": "code",
   "execution_count": 117,
   "id": "63644386-2fbc-4356-b564-27304e2639cf",
   "metadata": {},
   "outputs": [
    {
     "name": "stdout",
     "output_type": "stream",
     "text": [
      "<class 'pandas.core.frame.DataFrame'>\n",
      "Index: 1737 entries, AAAAAAAIKMLMDLVNERIMALNKKAKK to YWRWRW\n",
      "Data columns (total 3 columns):\n",
      " #   Column              Non-Null Count  Dtype  \n",
      "---  ------              --------------  -----  \n",
      " 0   MIC_geometric_mean  1737 non-null   float64\n",
      " 1   MIC_mean            1737 non-null   float64\n",
      " 2   occurences          1737 non-null   int64  \n",
      "dtypes: float64(2), int64(1)\n",
      "memory usage: 54.3+ KB\n"
     ]
    }
   ],
   "source": [
    "average_MIC_unique_sequences.info()"
   ]
  },
  {
   "cell_type": "code",
   "execution_count": 118,
   "id": "adab62a2-1b64-4c2d-a388-fd3bfd446b66",
   "metadata": {},
   "outputs": [
    {
     "data": {
      "text/html": [
       "<div>\n",
       "<style scoped>\n",
       "    .dataframe tbody tr th:only-of-type {\n",
       "        vertical-align: middle;\n",
       "    }\n",
       "\n",
       "    .dataframe tbody tr th {\n",
       "        vertical-align: top;\n",
       "    }\n",
       "\n",
       "    .dataframe thead th {\n",
       "        text-align: right;\n",
       "    }\n",
       "</style>\n",
       "<table border=\"1\" class=\"dataframe\">\n",
       "  <thead>\n",
       "    <tr style=\"text-align: right;\">\n",
       "      <th></th>\n",
       "      <th>MIC_geometric_mean</th>\n",
       "      <th>MIC_mean</th>\n",
       "      <th>occurences</th>\n",
       "    </tr>\n",
       "  </thead>\n",
       "  <tbody>\n",
       "    <tr>\n",
       "      <th>count</th>\n",
       "      <td>1737.000000</td>\n",
       "      <td>1737.000000</td>\n",
       "      <td>1737.000000</td>\n",
       "    </tr>\n",
       "    <tr>\n",
       "      <th>mean</th>\n",
       "      <td>43.700667</td>\n",
       "      <td>44.959455</td>\n",
       "      <td>1.472654</td>\n",
       "    </tr>\n",
       "    <tr>\n",
       "      <th>std</th>\n",
       "      <td>72.047674</td>\n",
       "      <td>72.819030</td>\n",
       "      <td>0.933550</td>\n",
       "    </tr>\n",
       "    <tr>\n",
       "      <th>min</th>\n",
       "      <td>0.020000</td>\n",
       "      <td>0.020000</td>\n",
       "      <td>1.000000</td>\n",
       "    </tr>\n",
       "    <tr>\n",
       "      <th>25%</th>\n",
       "      <td>4.300000</td>\n",
       "      <td>4.666667</td>\n",
       "      <td>1.000000</td>\n",
       "    </tr>\n",
       "    <tr>\n",
       "      <th>50%</th>\n",
       "      <td>13.581954</td>\n",
       "      <td>14.813318</td>\n",
       "      <td>1.000000</td>\n",
       "    </tr>\n",
       "    <tr>\n",
       "      <th>75%</th>\n",
       "      <td>50.215495</td>\n",
       "      <td>52.924524</td>\n",
       "      <td>2.000000</td>\n",
       "    </tr>\n",
       "    <tr>\n",
       "      <th>max</th>\n",
       "      <td>536.456857</td>\n",
       "      <td>536.456857</td>\n",
       "      <td>9.000000</td>\n",
       "    </tr>\n",
       "  </tbody>\n",
       "</table>\n",
       "</div>"
      ],
      "text/plain": [
       "       MIC_geometric_mean     MIC_mean   occurences\n",
       "count         1737.000000  1737.000000  1737.000000\n",
       "mean            43.700667    44.959455     1.472654\n",
       "std             72.047674    72.819030     0.933550\n",
       "min              0.020000     0.020000     1.000000\n",
       "25%              4.300000     4.666667     1.000000\n",
       "50%             13.581954    14.813318     1.000000\n",
       "75%             50.215495    52.924524     2.000000\n",
       "max            536.456857   536.456857     9.000000"
      ]
     },
     "execution_count": 118,
     "metadata": {},
     "output_type": "execute_result"
    }
   ],
   "source": [
    "average_MIC_unique_sequences.describe()"
   ]
  },
  {
   "cell_type": "markdown",
   "id": "dba2efb0-99e1-47cb-b8e9-4f0e2831b704",
   "metadata": {
    "tags": []
   },
   "source": [
    "## Check MIC distribution"
   ]
  },
  {
   "cell_type": "code",
   "execution_count": 120,
   "id": "5c6d60b3-18d0-47fc-89d0-d203a72c9fde",
   "metadata": {},
   "outputs": [
    {
     "data": {
      "text/plain": [
       "(0.0, 100.0)"
      ]
     },
     "execution_count": 120,
     "metadata": {},
     "output_type": "execute_result"
    },
    {
     "data": {
      "image/png": "[encoded data removed]",
      "text/plain": [
       "<Figure size 500x500 with 1 Axes>"
      ]
     },
     "metadata": {},
     "output_type": "display_data"
    }
   ],
   "source": [
    "import matplotlib.pyplot as plt\n",
    "\n",
    "_, ax = plt.subplots(1,1, figsize=(5,5))\n",
    "average_MIC_unique_sequences.MIC_geometric_mean.plot.hist(bins=100, ax=ax)\n",
    "ax.set_xlim([0,1000])\n",
    "ax.set_ylim([0, 100])"
   ]
  },
  {
   "cell_type": "code",
   "execution_count": 122,
   "id": "6040f538-8c0f-44df-a696-6873e5f27664",
   "metadata": {},
   "outputs": [],
   "source": [
    "avg_MIC_less_than_8196_2 = average_MIC_unique_sequences[average_MIC_unique_sequences.MIC_geometric_mean <= 8196//2]"
   ]
  },
  {
   "cell_type": "markdown",
   "id": "1fb436c5-eadb-4376-b0ea-0a42d634ad91",
   "metadata": {},
   "source": [
    "## Results (sample counts)"
   ]
  },
  {
   "cell_type": "code",
   "execution_count": 123,
   "id": "739cec8b-420c-4ab0-a57c-31735eb40e3b",
   "metadata": {},
   "outputs": [
    {
     "name": "stdout",
     "output_type": "stream",
     "text": [
      "There are 1737 before MIC cutoff\n",
      "There are 1737 after filtering by MIC cutoff\n",
      "This is compared to the 1762 reported in the paper and 4,582 from the github repo for the paper\n"
     ]
    }
   ],
   "source": [
    "print(f'There are {len(average_MIC_unique_sequences)} before MIC cutoff')\n",
    "print(f'There are {len(avg_MIC_less_than_8196_2)} after filtering by MIC cutoff')\n",
    "print(f'This is compared to the 1762 reported in the paper and 4,582 from the github repo for the paper')"
   ]
  },
  {
   "cell_type": "code",
   "execution_count": 125,
   "id": "de50b4cf-223f-4e9b-9c8d-08e5efec7bd1",
   "metadata": {},
   "outputs": [
    {
     "data": {
      "text/plain": [
       "count    1737.000000\n",
       "mean       43.700667\n",
       "std        72.047674\n",
       "min         0.020000\n",
       "25%         4.300000\n",
       "50%        13.581954\n",
       "75%        50.215495\n",
       "max       536.456857\n",
       "Name: MIC_geometric_mean, dtype: float64"
      ]
     },
     "execution_count": 125,
     "metadata": {},
     "output_type": "execute_result"
    }
   ],
   "source": [
    "average_MIC_unique_sequences.MIC_geometric_mean.describe()"
   ]
  },
  {
   "cell_type": "markdown",
   "id": "40ef19ed-880f-4dec-a31c-102e717164df",
   "metadata": {},
   "source": [
    "## save positives"
   ]
  },
  {
   "cell_type": "code",
   "execution_count": 128,
   "id": "703eb758-176c-4efb-a3ef-8bc09e3c1bf6",
   "metadata": {},
   "outputs": [],
   "source": [
    "average_MIC_unique_sequences.rename(columns={'MIC_geometric_mean': 'MIC'})['MIC'].to_csv('July10th_FilteredGRAMPA.csv')"
   ]
  },
  {
   "cell_type": "code",
   "execution_count": null,
   "id": "670d6fd3-cdf7-47cc-8327-b3eba986a162",
   "metadata": {},
   "outputs": [],
   "source": []
  }
 ],
 "metadata": {
  "kernelspec": {
   "display_name": "Python 3 (ipykernel)",
   "language": "python",
   "name": "python3"
  },
  "language_info": {
   "codemirror_mode": {
    "name": "ipython",
    "version": 3
   },
   "file_extension": ".py",
   "mimetype": "text/x-python",
   "name": "python",
   "nbconvert_exporter": "python",
   "pygments_lexer": "ipython3",
   "version": "3.11.2"
  }
 },
 "nbformat": 4,
 "nbformat_minor": 5
}
