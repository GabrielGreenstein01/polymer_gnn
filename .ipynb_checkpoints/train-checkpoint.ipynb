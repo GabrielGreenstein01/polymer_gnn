{
 "cells": [
  {
   "cell_type": "code",
   "execution_count": 307,
   "id": "fresh-packet",
   "metadata": {},
   "outputs": [
    {
     "name": "stdout",
     "output_type": "stream",
     "text": [
      "The autoreload extension is already loaded. To reload it, use:\n",
      "  %reload_ext autoreload\n"
     ]
    }
   ],
   "source": [
    "%load_ext autoreload\n",
    "%autoreload 2\n",
    "\n",
    "import os\n",
    "os.environ['CUDA_VISIBLE_DEVICES'] = \"0\"\n",
    "\n",
    "import random\n",
    "from rdkit import Chem\n",
    "from rdkit.Chem import Draw\n",
    "from rdkit.Chem.Draw import IPythonConsole\n",
    "\n",
    "from utils.load_networkx import networkx_feat\n",
    "from utils.macro_dataset import MacroDataset\n",
    "from utils import macro_unsupervised as unsup\n",
    "from utils.macro_supervised_hyperparameter import MacroSupervised\n",
    "from utils.macro_attribution import Attribution\n",
    "from utils import plot"
   ]
  },
  {
   "cell_type": "markdown",
   "id": "coated-thesis",
   "metadata": {},
   "source": [
    "**Filepaths**"
   ]
  },
  {
   "cell_type": "markdown",
   "id": "crucial-thought",
   "metadata": {},
   "source": [
    "MON_SMILES : .csv or .txt file of macromolecule monomers\n",
    "<br>\n",
    "BOND_SMILES : .csv or .txt file of macromolecule bonds\n",
    "\n",
    "TXT_DATA_PATH : For dataset, to be used for training\n",
    "<br>\n",
    "DF_PATH : For dataset, to be used for graph labels during training\n",
    "<br>\n",
    "MODEL_PATH : For models, to be used when training to save the model, optimizer, and configuration file\n",
    "<br>\n",
    "FIG_PATH : For plots, to be used when saving ROC-AUC or parity plot figures"
   ]
  },
  {
   "cell_type": "markdown",
   "id": "extra-dependence",
   "metadata": {},
   "source": [
    "**Variables**"
   ]
  },
  {
   "cell_type": "markdown",
   "id": "second-variety",
   "metadata": {},
   "source": [
    "FEAT : Type of features for macromolecule monomers and bonds -- fingerprints ('fp') or one-hot encodings ('onehot') (default = 'fp')\n",
    "<br>\n",
    "FP_RADIUS_MON : Radius of topological exploration for monomer fingerprint (default = 3)\n",
    "<br>\n",
    "FP_BITS_MON : Size of fingerprint bit-vector for monomer (default = 128)\n",
    "<br>\n",
    "FP_RADIUS_BOND : Radius of topological exploration for bond fingerprint (default = 3)\n",
    "<br>\n",
    "FP_BITS_BOND : Size of fingerprint bit-vector for bond (default = 16)\n",
    "\n",
    "SEED : Random seed for shuffling dataset (default = 108)\n",
    "<br>\n",
    "TASK : Learning task (classification, regression) (default = 'classification')\n",
    "<br>\n",
    "MODEL : Model architecture for supervised learning (Weave, MPNN, Attentive FP, GCN, GAT) (default = 'Weave')\n",
    "<br>\n",
    "LABELNAME : Name of label to classify (default = 'Immunogenic')\n",
    "<br>\n",
    "SPLIT : Proportion of the dataset to use for training, validation and test (default = '0.8,0.1,0.1')\n",
    "<br>\n",
    "NORM: Normalization method for regression labels -- quantile transform ('qt') or standard scaler ('ss') (default = 'qt')\n",
    "\n",
    "NUM_EPOCHS: Maximum number of epochs allowed for training (default = 1000)\n",
    "<br>\n",
    "NUM_WORKERS: Number of processes for data loading (default: 1)\n",
    "\n",
    "SAVE_MODEL: Whether to save full model file. Model state dict will be saved automatically (default = False)\n",
    "<br>\n",
    "SAVE_OPT: Whether to save optimizer files (default = False)\n",
    "<br>\n",
    "SAVE_CONFIG: Whether to save configuration file (default = False)\n",
    "\n",
    "PLOT_TYPE: Dataset to plot ('val' for validation or 'test' for test)\n",
    "\n",
    "CUSTOM_PARAMS: Dictionary of hyperparameters for model"
   ]
  },
  {
   "cell_type": "code",
   "execution_count": 308,
   "id": "hollywood-royalty",
   "metadata": {},
   "outputs": [],
   "source": [
    "DESCRIPTORS = 'unique_descriptors.json'\n",
    "\n",
    "SEED = 112\n",
    "TASK = 'classification'\n",
    "MODEL = 'AttentiveFP'\n",
    "LABELNAME = 'immunogenic'\n",
    "\n",
    "MON_SMILES = 'tables/SMILES_peptides_monomer.txt'\n",
    "BOND_SMILES = 'tables/SMILES_peptides_bond.txt'\n",
    "TXT_DATA_PATH = 'dataset_abridged/classification/'\n",
    "DF_PATH = 'tables/immuno_peptides.txt'\n",
    "\n",
    "SPLIT = '0.6,0.2,0.2'\n",
    "SCALER = 'minmax'\n",
    "\n",
    "NUM_EPOCHS = 3\n",
    "NUM_WORKERS = 2\n",
    "\n",
    "MODEL_PATH = 'past_trials/' + MODEL + '/' + str(NUM_EPOCHS) + '_epochs'\n",
    "FIG_PATH = 'past_trials/' + MODEL + '/' + str(NUM_EPOCHS) + '_epochs'\n",
    "\n",
    "SAVE_MODEL = True\n",
    "SAVE_OPT = True\n",
    "SAVE_CONFIG = True\n",
    "\n",
    "CUSTOM_PARAMS = {}"
   ]
  },
  {
   "cell_type": "markdown",
   "id": "sunrise-devon",
   "metadata": {},
   "source": [
    "**Load featurized NetworkX graphs**"
   ]
  },
  {
   "cell_type": "code",
   "execution_count": 301,
   "id": "389a8889-81eb-4266-a890-21b4c7d52a61",
   "metadata": {
    "scrolled": true
   },
   "outputs": [
    {
     "name": "stdout",
     "output_type": "stream",
     "text": [
      "Omitted Peptide: GID196\n",
      "Omitted Peptide: UID5671\n"
     ]
    }
   ],
   "source": [
    "NX_GRAPHS = networkx_feat(\n",
    "    TXT_DATA_PATH = TXT_DATA_PATH, \n",
    "    MON_SMILES = MON_SMILES, \n",
    "    BOND_SMILES = BOND_SMILES, \n",
    "    DESCRIPTORS = DESCRIPTORS,\n",
    "    SPLIT = SPLIT,\n",
    "    SEED = SEED,\n",
    "    SCALER = SCALER\n",
    ")"
   ]
  },
  {
   "cell_type": "code",
   "execution_count": 302,
   "id": "76709277",
   "metadata": {},
   "outputs": [],
   "source": [
    "# plot.graph(NX_GRAPHS['sets']['train']['GID1'])"
   ]
  },
  {
   "cell_type": "code",
   "execution_count": 303,
   "id": "1c7fd7b0-d811-484a-af47-db6841477635",
   "metadata": {},
   "outputs": [],
   "source": [
    "# plot.graph(NX_GRAPHS['sets']['test']['UID5863'])"
   ]
  },
  {
   "cell_type": "markdown",
   "id": "capital-chess",
   "metadata": {},
   "source": [
    "**Load DGL dataset with labels and masks**"
   ]
  },
  {
   "cell_type": "code",
   "execution_count": 304,
   "id": "logical-history",
   "metadata": {
    "scrolled": true
   },
   "outputs": [],
   "source": [
    "dgl_dict = MacroDataset(\n",
    "    DF_PATH = DF_PATH,\n",
    "    TASK = TASK, \n",
    "    LABELNAME = LABELNAME, \n",
    "    MODEL = MODEL,\n",
    "    NX_GRAPHS = NX_GRAPHS)"
   ]
  },
  {
   "cell_type": "markdown",
   "id": "specific-overall",
   "metadata": {},
   "source": [
    "## Supervised learning \n",
    "Training model and obtaining validation and test metrics"
   ]
  },
  {
   "cell_type": "code",
   "execution_count": 305,
   "id": "cultural-situation",
   "metadata": {
    "scrolled": true
   },
   "outputs": [
    {
     "name": "stdout",
     "output_type": "stream",
     "text": [
      "Directory past_trials/AttentiveFP/3_epochs already exists.\n"
     ]
    }
   ],
   "source": [
    "macro_supervised = MacroSupervised(\n",
    "    MacroDataset = dgl_dict, \n",
    "    MODEL = MODEL, \n",
    "    NUM_EPOCHS = NUM_EPOCHS, \n",
    "    NUM_WORKERS = NUM_WORKERS, \n",
    "    CUSTOM_PARAMS = CUSTOM_PARAMS,\n",
    "    MODEL_PATH = MODEL_PATH, \n",
    "    SAVE_MODEL = SAVE_MODEL, \n",
    "    SAVE_OPT = SAVE_OPT, \n",
    "    SAVE_CONFIG = SAVE_CONFIG)"
   ]
  },
  {
   "cell_type": "code",
   "execution_count": 306,
   "id": "overhead-steering",
   "metadata": {
    "scrolled": true
   },
   "outputs": [
    {
     "name": "stdout",
     "output_type": "stream",
     "text": [
      "1\n",
      "2\n",
      "3\n"
     ]
    },
    {
     "data": {
      "text/plain": [
       "-0.3902439024390244"
      ]
     },
     "execution_count": 306,
     "metadata": {},
     "output_type": "execute_result"
    }
   ],
   "source": [
    "macro_supervised.main()"
   ]
  },
  {
   "cell_type": "code",
   "execution_count": null,
   "id": "4443149b-0574-4271-8013-36eb39aa7e20",
   "metadata": {},
   "outputs": [],
   "source": [
    "macro_supervised.rocauc_plot('val')"
   ]
  },
  {
   "cell_type": "code",
   "execution_count": null,
   "id": "13aad210",
   "metadata": {},
   "outputs": [],
   "source": [
    "macro_supervised.rocauc_plot('test')"
   ]
  },
  {
   "cell_type": "markdown",
   "id": "ff29cf92",
   "metadata": {},
   "source": [
    "#### Attribution"
   ]
  },
  {
   "cell_type": "code",
   "execution_count": null,
   "id": "08e1e571",
   "metadata": {},
   "outputs": [],
   "source": [
    "random.seed(SEED)\n",
    "input_graph = dgl_dict.graphs[0]\n",
    "\n",
    "attribution = Attribution(\n",
    "    model_name = MODEL, \n",
    "    attribution_type = 'integrated_gradients')\n",
    "\n",
    "attribution.calculate_attribution(\n",
    "    model_instance = macro_supervised.model, \n",
    "    input_graph = input_graph)"
   ]
  },
  {
   "cell_type": "code",
   "execution_count": null,
   "id": "aa06fabd",
   "metadata": {},
   "outputs": [],
   "source": [
    "attribution.plot_graph(\n",
    "    input_graph = input_graph, \n",
    "    NX_GRAPHS = NX_GRAPHS)"
   ]
  },
  {
   "cell_type": "code",
   "execution_count": null,
   "id": "e6a2dbaa",
   "metadata": {},
   "outputs": [],
   "source": [
    "attribution.plot_fp(node_idx=0)"
   ]
  },
  {
   "cell_type": "code",
   "execution_count": null,
   "id": "7b5dcf24",
   "metadata": {},
   "outputs": [],
   "source": [
    "index = 16\n",
    "mol, bi = attribution.display_substructure(\n",
    "    monomer = 'Xyl', \n",
    "    MON_SMILES_PATH = MON_SMILES, \n",
    "    RADIUS = FP_RADIUS_MON, \n",
    "    N_BITS = FP_BITS_MON)\n",
    "Draw.DrawMorganBit(mol, index, bi)"
   ]
  },
  {
   "cell_type": "code",
   "execution_count": null,
   "id": "c1da9645-6773-4d96-afb1-806a61fbcdbe",
   "metadata": {},
   "outputs": [],
   "source": []
  }
 ],
 "metadata": {
  "kernelspec": {
   "display_name": "Python 3 (ipykernel)",
   "language": "python",
   "name": "python3"
  },
  "language_info": {
   "codemirror_mode": {
    "name": "ipython",
    "version": 3
   },
   "file_extension": ".py",
   "mimetype": "text/x-python",
   "name": "python",
   "nbconvert_exporter": "python",
   "pygments_lexer": "ipython3",
   "version": "3.8.16"
  }
 },
 "nbformat": 4,
 "nbformat_minor": 5
}
