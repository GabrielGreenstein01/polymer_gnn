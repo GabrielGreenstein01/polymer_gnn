{
 "cells": [
  {
   "cell_type": "code",
   "execution_count": 47,
   "id": "42c61d73-20f3-4c5e-a076-af84df146aff",
   "metadata": {},
   "outputs": [],
   "source": [
    "import pandas as pd\n",
    "import numpy as np"
   ]
  },
  {
   "cell_type": "code",
   "execution_count": 48,
   "id": "77bdc373-2ab0-4917-9347-cf6240acdd7d",
   "metadata": {},
   "outputs": [
    {
     "data": {
      "text/html": [
       "<div>\n",
       "<style scoped>\n",
       "    .dataframe tbody tr th:only-of-type {\n",
       "        vertical-align: middle;\n",
       "    }\n",
       "\n",
       "    .dataframe tbody tr th {\n",
       "        vertical-align: top;\n",
       "    }\n",
       "\n",
       "    .dataframe thead th {\n",
       "        text-align: right;\n",
       "    }\n",
       "</style>\n",
       "<table border=\"1\" class=\"dataframe\">\n",
       "  <thead>\n",
       "    <tr style=\"text-align: right;\">\n",
       "      <th></th>\n",
       "      <th>Unnamed: 0</th>\n",
       "      <th>bacterium</th>\n",
       "      <th>modifications</th>\n",
       "      <th>sequence</th>\n",
       "      <th>strain</th>\n",
       "      <th>unit</th>\n",
       "      <th>url_source</th>\n",
       "      <th>value</th>\n",
       "      <th>is_modified</th>\n",
       "      <th>has_unusual_modification</th>\n",
       "      <th>has_cterminal_amidation</th>\n",
       "      <th>datasource_has_modifications</th>\n",
       "      <th>database</th>\n",
       "    </tr>\n",
       "  </thead>\n",
       "  <tbody>\n",
       "    <tr>\n",
       "      <th>0</th>\n",
       "      <td>0</td>\n",
       "      <td>B. subtilis</td>\n",
       "      <td>[disulfide]</td>\n",
       "      <td>GLPRKILCAIAKKKGKCKGPLKLVCKC</td>\n",
       "      <td>NaN</td>\n",
       "      <td>uM</td>\n",
       "      <td>http://aps.unmc.edu/AP/database/query_output.p...</td>\n",
       "      <td>-0.397940</td>\n",
       "      <td>True</td>\n",
       "      <td>False</td>\n",
       "      <td>False</td>\n",
       "      <td>True</td>\n",
       "      <td>APD</td>\n",
       "    </tr>\n",
       "    <tr>\n",
       "      <th>1</th>\n",
       "      <td>1</td>\n",
       "      <td>S. agalactiae</td>\n",
       "      <td>[disulfide]</td>\n",
       "      <td>GFGCPGDAYQCSEHCRALGGGRTGGYCAGPWYLGHPTCTCSF</td>\n",
       "      <td>NaN</td>\n",
       "      <td>uM</td>\n",
       "      <td>http://aps.unmc.edu/AP/database/query_output.p...</td>\n",
       "      <td>-1.859819</td>\n",
       "      <td>True</td>\n",
       "      <td>False</td>\n",
       "      <td>False</td>\n",
       "      <td>True</td>\n",
       "      <td>APD</td>\n",
       "    </tr>\n",
       "    <tr>\n",
       "      <th>2</th>\n",
       "      <td>2</td>\n",
       "      <td>S. aureus</td>\n",
       "      <td>[disulfide]</td>\n",
       "      <td>GFGCPGDAYQCSEHCRALGGGRTGGYCAGPWYLGHPTCTCSF</td>\n",
       "      <td>ATCC29213</td>\n",
       "      <td>uM</td>\n",
       "      <td>http://aps.unmc.edu/AP/database/query_output.p...</td>\n",
       "      <td>0.566150</td>\n",
       "      <td>True</td>\n",
       "      <td>False</td>\n",
       "      <td>False</td>\n",
       "      <td>True</td>\n",
       "      <td>APD</td>\n",
       "    </tr>\n",
       "    <tr>\n",
       "      <th>3</th>\n",
       "      <td>3</td>\n",
       "      <td>S. pneumonia</td>\n",
       "      <td>[disulfide]</td>\n",
       "      <td>GFGCPGDAYQCSEHCRALGGGRTGGYCAGPWYLGHPTCTCSF</td>\n",
       "      <td>ATCC49619</td>\n",
       "      <td>uM</td>\n",
       "      <td>http://aps.unmc.edu/AP/database/query_output.p...</td>\n",
       "      <td>-1.240030</td>\n",
       "      <td>True</td>\n",
       "      <td>False</td>\n",
       "      <td>False</td>\n",
       "      <td>True</td>\n",
       "      <td>APD</td>\n",
       "    </tr>\n",
       "    <tr>\n",
       "      <th>4</th>\n",
       "      <td>4</td>\n",
       "      <td>S. epidermidis</td>\n",
       "      <td>[disulfide]</td>\n",
       "      <td>GFGCPGDAYQCSEHCRALGGGRTGGYCAGPWYLGHPTCTCSF</td>\n",
       "      <td>ATCC12228</td>\n",
       "      <td>uM</td>\n",
       "      <td>http://aps.unmc.edu/AP/database/query_output.p...</td>\n",
       "      <td>0.566150</td>\n",
       "      <td>True</td>\n",
       "      <td>False</td>\n",
       "      <td>False</td>\n",
       "      <td>True</td>\n",
       "      <td>APD</td>\n",
       "    </tr>\n",
       "  </tbody>\n",
       "</table>\n",
       "</div>"
      ],
      "text/plain": [
       "   Unnamed: 0       bacterium modifications  \\\n",
       "0           0     B. subtilis   [disulfide]   \n",
       "1           1   S. agalactiae   [disulfide]   \n",
       "2           2       S. aureus   [disulfide]   \n",
       "3           3    S. pneumonia   [disulfide]   \n",
       "4           4  S. epidermidis   [disulfide]   \n",
       "\n",
       "                                     sequence     strain unit  \\\n",
       "0                 GLPRKILCAIAKKKGKCKGPLKLVCKC        NaN   uM   \n",
       "1  GFGCPGDAYQCSEHCRALGGGRTGGYCAGPWYLGHPTCTCSF        NaN   uM   \n",
       "2  GFGCPGDAYQCSEHCRALGGGRTGGYCAGPWYLGHPTCTCSF  ATCC29213   uM   \n",
       "3  GFGCPGDAYQCSEHCRALGGGRTGGYCAGPWYLGHPTCTCSF  ATCC49619   uM   \n",
       "4  GFGCPGDAYQCSEHCRALGGGRTGGYCAGPWYLGHPTCTCSF  ATCC12228   uM   \n",
       "\n",
       "                                          url_source     value  is_modified  \\\n",
       "0  http://aps.unmc.edu/AP/database/query_output.p... -0.397940         True   \n",
       "1  http://aps.unmc.edu/AP/database/query_output.p... -1.859819         True   \n",
       "2  http://aps.unmc.edu/AP/database/query_output.p...  0.566150         True   \n",
       "3  http://aps.unmc.edu/AP/database/query_output.p... -1.240030         True   \n",
       "4  http://aps.unmc.edu/AP/database/query_output.p...  0.566150         True   \n",
       "\n",
       "   has_unusual_modification  has_cterminal_amidation  \\\n",
       "0                     False                    False   \n",
       "1                     False                    False   \n",
       "2                     False                    False   \n",
       "3                     False                    False   \n",
       "4                     False                    False   \n",
       "\n",
       "   datasource_has_modifications database  \n",
       "0                          True      APD  \n",
       "1                          True      APD  \n",
       "2                          True      APD  \n",
       "3                          True      APD  \n",
       "4                          True      APD  "
      ]
     },
     "execution_count": 48,
     "metadata": {},
     "output_type": "execute_result"
    }
   ],
   "source": [
    "grampa = pd.read_csv(\"./labeled_data/grampa_positives.csv\")\n",
    "grampa.head()"
   ]
  },
  {
   "cell_type": "code",
   "execution_count": 49,
   "id": "f4f05710-9717-45db-b794-a1dffe6b3179",
   "metadata": {},
   "outputs": [
    {
     "data": {
      "text/plain": [
       "(8955, 13)"
      ]
     },
     "execution_count": 49,
     "metadata": {},
     "output_type": "execute_result"
    }
   ],
   "source": [
    "col_name = \"bacterium\"\n",
    "target = \"aureus\"\n",
    "\n",
    "bool_filter = grampa[col_name].str.contains(target)\n",
    "filter_data = grampa[bool_filter]\n",
    "\n",
    "filter_data.shape"
   ]
  },
  {
   "cell_type": "code",
   "execution_count": 50,
   "id": "5dc3be20-f35f-4d01-9807-2140e4abe53f",
   "metadata": {},
   "outputs": [],
   "source": [
    "x = filter_data.sequence.map(lambda x: True if 5 <= len(x) <= 50 else False)\n",
    "x.value_counts()\n",
    "\n",
    "grampa_filtered = filter_data[x]"
   ]
  },
  {
   "cell_type": "code",
   "execution_count": 51,
   "id": "f789773f-4006-4e86-85ce-481a9c64ea77",
   "metadata": {},
   "outputs": [
    {
     "data": {
      "text/plain": [
       "(8658, 13)"
      ]
     },
     "execution_count": 51,
     "metadata": {},
     "output_type": "execute_result"
    }
   ],
   "source": [
    "grampa_filtered.shape"
   ]
  },
  {
   "cell_type": "code",
   "execution_count": 52,
   "id": "d092b8f3-c5a1-4a18-8bec-97728ecc7bfa",
   "metadata": {},
   "outputs": [],
   "source": [
    "grampa_filtered = grampa_filtered[grampa_filtered.has_cterminal_amidation == True]\n",
    "nunique_sequences = grampa_filtered.sequence.nunique()"
   ]
  },
  {
   "cell_type": "code",
   "execution_count": 53,
   "id": "0b045e69-6403-46c8-8129-cf5f3e33e942",
   "metadata": {},
   "outputs": [],
   "source": [
    "m = grampa_filtered.has_unusual_modification == False\n",
    "grampa_filtered = grampa_filtered[m]"
   ]
  },
  {
   "cell_type": "code",
   "execution_count": 54,
   "id": "cf91b8b4-478a-4abf-9a78-b70ddb58b5b0",
   "metadata": {},
   "outputs": [],
   "source": [
    "grampa_filtered.to_csv(r'test.csv', index=None, sep=',', mode='w')"
   ]
  },
  {
   "cell_type": "code",
   "execution_count": null,
   "id": "246f3178-73c1-45df-ad0e-2c42345cf8e9",
   "metadata": {},
   "outputs": [],
   "source": []
  }
 ],
 "metadata": {
  "kernelspec": {
   "display_name": "Python 3 (ipykernel)",
   "language": "python",
   "name": "python3"
  },
  "language_info": {
   "codemirror_mode": {
    "name": "ipython",
    "version": 3
   },
   "file_extension": ".py",
   "mimetype": "text/x-python",
   "name": "python",
   "nbconvert_exporter": "python",
   "pygments_lexer": "ipython3",
   "version": "3.8.16"
  }
 },
 "nbformat": 4,
 "nbformat_minor": 5
}
